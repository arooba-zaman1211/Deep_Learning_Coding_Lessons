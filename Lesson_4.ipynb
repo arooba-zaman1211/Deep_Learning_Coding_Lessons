{
  "nbformat": 4,
  "nbformat_minor": 0,
  "metadata": {
    "colab": {
      "provenance": [],
      "authorship_tag": "ABX9TyOzFg/VbJ4hceGQONs+dzhf",
      "include_colab_link": true
    },
    "kernelspec": {
      "name": "python3",
      "display_name": "Python 3"
    },
    "language_info": {
      "name": "python"
    }
  },
  "cells": [
    {
      "cell_type": "markdown",
      "metadata": {
        "id": "view-in-github",
        "colab_type": "text"
      },
      "source": [
        "<a href=\"https://colab.research.google.com/github/arooba-zaman1211/Deep_Learning_using_Pytorch/blob/main/Lesson_4.ipynb\" target=\"_parent\"><img src=\"https://colab.research.google.com/assets/colab-badge.svg\" alt=\"Open In Colab\"/></a>"
      ]
    },
    {
      "cell_type": "code",
      "execution_count": 1,
      "metadata": {
        "id": "d7t8txn6_mIH"
      },
      "outputs": [],
      "source": [
        "import torch"
      ]
    },
    {
      "cell_type": "code",
      "source": [
        "int_32_tensor = torch.tensor([1.3,2.5,7.6],dtype=torch.int32)\n",
        "int_32_tensor"
      ],
      "metadata": {
        "colab": {
          "base_uri": "https://localhost:8080/"
        },
        "id": "UY8n9XYCDIUK",
        "outputId": "35982a5e-48a0-41a4-b21c-8314394f5216"
      },
      "execution_count": 3,
      "outputs": [
        {
          "output_type": "execute_result",
          "data": {
            "text/plain": [
              "tensor([1, 2, 7], dtype=torch.int32)"
            ]
          },
          "metadata": {},
          "execution_count": 3
        }
      ]
    },
    {
      "cell_type": "code",
      "source": [
        "int_32_tensor.dtype"
      ],
      "metadata": {
        "colab": {
          "base_uri": "https://localhost:8080/"
        },
        "id": "_-m5LOYpDUSd",
        "outputId": "26dac73f-b2b6-491f-b1b0-05cc80de9ee6"
      },
      "execution_count": 4,
      "outputs": [
        {
          "output_type": "execute_result",
          "data": {
            "text/plain": [
              "torch.int32"
            ]
          },
          "metadata": {},
          "execution_count": 4
        }
      ]
    },
    {
      "cell_type": "markdown",
      "source": [
        "### Getting information from tensors (tensor attributes)\n",
        "\n",
        "1. datatype - tensor.dtype\n",
        "2. shape - tensor.shape\n",
        "3. device - tensor.device"
      ],
      "metadata": {
        "id": "9Yyf-9ioEXtd"
      }
    },
    {
      "cell_type": "code",
      "source": [
        "tensor = torch.rand(3,4)\n",
        "tensor"
      ],
      "metadata": {
        "colab": {
          "base_uri": "https://localhost:8080/"
        },
        "id": "yy--p_RnDarx",
        "outputId": "ef24746f-c798-41d2-d3c9-51433e749530"
      },
      "execution_count": 5,
      "outputs": [
        {
          "output_type": "execute_result",
          "data": {
            "text/plain": [
              "tensor([[0.7904, 0.4610, 0.1007, 0.1575],\n",
              "        [0.3543, 0.5273, 0.8053, 0.8723],\n",
              "        [0.1608, 0.5446, 0.1344, 0.8778]])"
            ]
          },
          "metadata": {},
          "execution_count": 5
        }
      ]
    },
    {
      "cell_type": "code",
      "source": [
        "tensor.dtype"
      ],
      "metadata": {
        "colab": {
          "base_uri": "https://localhost:8080/"
        },
        "id": "LsFHytocE6mL",
        "outputId": "0d2ffc07-bdfe-4d71-ee09-31630587f366"
      },
      "execution_count": 6,
      "outputs": [
        {
          "output_type": "execute_result",
          "data": {
            "text/plain": [
              "torch.float32"
            ]
          },
          "metadata": {},
          "execution_count": 6
        }
      ]
    },
    {
      "cell_type": "code",
      "source": [
        "tensor.shape"
      ],
      "metadata": {
        "colab": {
          "base_uri": "https://localhost:8080/"
        },
        "id": "S2YyIe8KE9A4",
        "outputId": "bc266cef-8017-4969-a7c0-2a6b9078bf02"
      },
      "execution_count": 7,
      "outputs": [
        {
          "output_type": "execute_result",
          "data": {
            "text/plain": [
              "torch.Size([3, 4])"
            ]
          },
          "metadata": {},
          "execution_count": 7
        }
      ]
    },
    {
      "cell_type": "code",
      "source": [
        "tensor.device"
      ],
      "metadata": {
        "colab": {
          "base_uri": "https://localhost:8080/"
        },
        "id": "gopJ5c1WE-sy",
        "outputId": "ec242f02-99b3-4273-9977-00b9fa5bb6fa"
      },
      "execution_count": 8,
      "outputs": [
        {
          "output_type": "execute_result",
          "data": {
            "text/plain": [
              "device(type='cpu')"
            ]
          },
          "metadata": {},
          "execution_count": 8
        }
      ]
    },
    {
      "cell_type": "code",
      "source": [
        "tensor_2 = torch.randint(low=0, high=10,size = (2,4), dtype=torch.int16, device = 'cpu')\n",
        "tensor_2"
      ],
      "metadata": {
        "colab": {
          "base_uri": "https://localhost:8080/"
        },
        "id": "8dLbQDQpFAoV",
        "outputId": "20bddc21-9ac2-49ec-98ef-8acff6b3a977"
      },
      "execution_count": 15,
      "outputs": [
        {
          "output_type": "execute_result",
          "data": {
            "text/plain": [
              "tensor([[9, 3, 5, 5],\n",
              "        [5, 7, 6, 2]], dtype=torch.int16)"
            ]
          },
          "metadata": {},
          "execution_count": 15
        }
      ]
    },
    {
      "cell_type": "code",
      "source": [
        "print(f\"tensor_2 datatype: {tensor_2.dtype}\")\n",
        "print(f\"tensor_2 device: {tensor_2.device}\")\n",
        "print(f\"tensor_2 shape: {tensor_2.shape}\")"
      ],
      "metadata": {
        "colab": {
          "base_uri": "https://localhost:8080/"
        },
        "id": "ib0FppTvJ38w",
        "outputId": "852a746f-8e75-48da-a893-bac13dec6fd3"
      },
      "execution_count": 16,
      "outputs": [
        {
          "output_type": "stream",
          "name": "stdout",
          "text": [
            "tensor_2 datatype: torch.int16\n",
            "tensor_2 device: cpu\n",
            "tensor_2 shape: torch.Size([2, 4])\n"
          ]
        }
      ]
    },
    {
      "cell_type": "markdown",
      "source": [
        "### Manipulating Tensor (tensor operations)\n",
        "\n",
        "1. Addition\n",
        "2. Subtraction\n",
        "3. Multiplication (element-wise)\n",
        "4. Division\n",
        "5. Matrix Multiplication"
      ],
      "metadata": {
        "id": "gzY7cDnHMz1Y"
      }
    },
    {
      "cell_type": "code",
      "source": [
        "tensor_2 + 10"
      ],
      "metadata": {
        "colab": {
          "base_uri": "https://localhost:8080/"
        },
        "id": "xo-d5TKvLUkO",
        "outputId": "56a3a654-5969-4a79-a0b2-ebb95243f269"
      },
      "execution_count": 17,
      "outputs": [
        {
          "output_type": "execute_result",
          "data": {
            "text/plain": [
              "tensor([[19, 13, 15, 15],\n",
              "        [15, 17, 16, 12]], dtype=torch.int16)"
            ]
          },
          "metadata": {},
          "execution_count": 17
        }
      ]
    },
    {
      "cell_type": "code",
      "source": [
        "tensor_2 - 10"
      ],
      "metadata": {
        "colab": {
          "base_uri": "https://localhost:8080/"
        },
        "id": "x-9n3WhVNkjB",
        "outputId": "bf11a2ef-b1d0-459f-e5e2-e98d5d9be024"
      },
      "execution_count": 18,
      "outputs": [
        {
          "output_type": "execute_result",
          "data": {
            "text/plain": [
              "tensor([[-1, -7, -5, -5],\n",
              "        [-5, -3, -4, -8]], dtype=torch.int16)"
            ]
          },
          "metadata": {},
          "execution_count": 18
        }
      ]
    },
    {
      "cell_type": "code",
      "source": [
        "tensor_2 / 10"
      ],
      "metadata": {
        "colab": {
          "base_uri": "https://localhost:8080/"
        },
        "id": "Y2PcjIW4Npsm",
        "outputId": "945d8719-af98-4ab4-e401-ca0c38712808"
      },
      "execution_count": 19,
      "outputs": [
        {
          "output_type": "execute_result",
          "data": {
            "text/plain": [
              "tensor([[0.9000, 0.3000, 0.5000, 0.5000],\n",
              "        [0.5000, 0.7000, 0.6000, 0.2000]])"
            ]
          },
          "metadata": {},
          "execution_count": 19
        }
      ]
    },
    {
      "cell_type": "code",
      "source": [
        "tensor_2 * 10"
      ],
      "metadata": {
        "colab": {
          "base_uri": "https://localhost:8080/"
        },
        "id": "6hUrcwEtNtRn",
        "outputId": "9701956a-4d04-4b31-a52e-25a202bb9db9"
      },
      "execution_count": 20,
      "outputs": [
        {
          "output_type": "execute_result",
          "data": {
            "text/plain": [
              "tensor([[90, 30, 50, 50],\n",
              "        [50, 70, 60, 20]], dtype=torch.int16)"
            ]
          },
          "metadata": {},
          "execution_count": 20
        }
      ]
    },
    {
      "cell_type": "code",
      "source": [
        "# pytorch pre-defined functions\n",
        "torch.mul(tensor_2, 10)"
      ],
      "metadata": {
        "colab": {
          "base_uri": "https://localhost:8080/"
        },
        "id": "ntSasqfgOgUE",
        "outputId": "7deac806-a296-4327-92d8-6e7096b3a7cc"
      },
      "execution_count": 21,
      "outputs": [
        {
          "output_type": "execute_result",
          "data": {
            "text/plain": [
              "tensor([[90, 30, 50, 50],\n",
              "        [50, 70, 60, 20]], dtype=torch.int16)"
            ]
          },
          "metadata": {},
          "execution_count": 21
        }
      ]
    },
    {
      "cell_type": "code",
      "source": [
        "torch.add(tensor_2, 10)"
      ],
      "metadata": {
        "colab": {
          "base_uri": "https://localhost:8080/"
        },
        "id": "qiFtAnc_PVQa",
        "outputId": "6bcef731-b2d8-42e3-9e99-f40434db7f6b"
      },
      "execution_count": 22,
      "outputs": [
        {
          "output_type": "execute_result",
          "data": {
            "text/plain": [
              "tensor([[19, 13, 15, 15],\n",
              "        [15, 17, 16, 12]], dtype=torch.int16)"
            ]
          },
          "metadata": {},
          "execution_count": 22
        }
      ]
    },
    {
      "cell_type": "markdown",
      "source": [
        "### Matrix Multiplication\n",
        "\n",
        "Two main ways of multiplication in neural networks and deep learning are:\n",
        "1. Element wise multiplication\n",
        "2. Matrix multiplication (dot product)"
      ],
      "metadata": {
        "id": "T_I_dUk2RK_r"
      }
    },
    {
      "cell_type": "code",
      "source": [],
      "metadata": {
        "id": "D6NEsuLCPvXf"
      },
      "execution_count": null,
      "outputs": []
    }
  ]
}