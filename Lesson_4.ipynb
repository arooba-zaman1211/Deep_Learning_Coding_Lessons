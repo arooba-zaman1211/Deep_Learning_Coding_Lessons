{
  "nbformat": 4,
  "nbformat_minor": 0,
  "metadata": {
    "colab": {
      "provenance": [],
      "authorship_tag": "ABX9TyNt6o/dfbw/3xI1lrGCrkBV",
      "include_colab_link": true
    },
    "kernelspec": {
      "name": "python3",
      "display_name": "Python 3"
    },
    "language_info": {
      "name": "python"
    }
  },
  "cells": [
    {
      "cell_type": "markdown",
      "metadata": {
        "id": "view-in-github",
        "colab_type": "text"
      },
      "source": [
        "<a href=\"https://colab.research.google.com/github/arooba-zaman1211/Deep_Learning_using_Pytorch/blob/main/Lesson_4.ipynb\" target=\"_parent\"><img src=\"https://colab.research.google.com/assets/colab-badge.svg\" alt=\"Open In Colab\"/></a>"
      ]
    },
    {
      "cell_type": "code",
      "execution_count": 1,
      "metadata": {
        "id": "d7t8txn6_mIH"
      },
      "outputs": [],
      "source": [
        "import torch"
      ]
    },
    {
      "cell_type": "code",
      "source": [
        "int_32_tensor = torch.tensor([1.3,2.5,7.6],dtype=torch.int32)\n",
        "int_32_tensor"
      ],
      "metadata": {
        "colab": {
          "base_uri": "https://localhost:8080/"
        },
        "id": "UY8n9XYCDIUK",
        "outputId": "2284d3a0-bff6-4296-de09-00ebdd26b53a"
      },
      "execution_count": 2,
      "outputs": [
        {
          "output_type": "execute_result",
          "data": {
            "text/plain": [
              "tensor([1, 2, 7], dtype=torch.int32)"
            ]
          },
          "metadata": {},
          "execution_count": 2
        }
      ]
    },
    {
      "cell_type": "code",
      "source": [
        "int_32_tensor.dtype"
      ],
      "metadata": {
        "colab": {
          "base_uri": "https://localhost:8080/"
        },
        "id": "_-m5LOYpDUSd",
        "outputId": "8ecd24ff-b70c-440b-f9ce-b2005bdfe480"
      },
      "execution_count": 3,
      "outputs": [
        {
          "output_type": "execute_result",
          "data": {
            "text/plain": [
              "torch.int32"
            ]
          },
          "metadata": {},
          "execution_count": 3
        }
      ]
    },
    {
      "cell_type": "markdown",
      "source": [
        "### Getting information from tensors (tensor attributes)\n",
        "\n",
        "1. datatype - tensor.dtype\n",
        "2. shape - tensor.shape\n",
        "3. device - tensor.device"
      ],
      "metadata": {
        "id": "9Yyf-9ioEXtd"
      }
    },
    {
      "cell_type": "code",
      "source": [
        "tensor = torch.rand(3,4)\n",
        "tensor"
      ],
      "metadata": {
        "colab": {
          "base_uri": "https://localhost:8080/"
        },
        "id": "yy--p_RnDarx",
        "outputId": "471b79b0-2e18-4c85-8ae5-0c15388d348e"
      },
      "execution_count": 4,
      "outputs": [
        {
          "output_type": "execute_result",
          "data": {
            "text/plain": [
              "tensor([[0.7903, 0.2718, 0.0529, 0.4434],\n",
              "        [0.5360, 0.1493, 0.4111, 0.1578],\n",
              "        [0.4760, 0.2174, 0.0595, 0.8664]])"
            ]
          },
          "metadata": {},
          "execution_count": 4
        }
      ]
    },
    {
      "cell_type": "code",
      "source": [
        "tensor.dtype"
      ],
      "metadata": {
        "colab": {
          "base_uri": "https://localhost:8080/"
        },
        "id": "LsFHytocE6mL",
        "outputId": "9e89b593-5a5d-42e4-9819-a379591bec93"
      },
      "execution_count": 5,
      "outputs": [
        {
          "output_type": "execute_result",
          "data": {
            "text/plain": [
              "torch.float32"
            ]
          },
          "metadata": {},
          "execution_count": 5
        }
      ]
    },
    {
      "cell_type": "code",
      "source": [
        "tensor.shape"
      ],
      "metadata": {
        "colab": {
          "base_uri": "https://localhost:8080/"
        },
        "id": "S2YyIe8KE9A4",
        "outputId": "f906eb5b-cafa-4511-8921-2871bc135bbd"
      },
      "execution_count": 6,
      "outputs": [
        {
          "output_type": "execute_result",
          "data": {
            "text/plain": [
              "torch.Size([3, 4])"
            ]
          },
          "metadata": {},
          "execution_count": 6
        }
      ]
    },
    {
      "cell_type": "code",
      "source": [
        "tensor.device"
      ],
      "metadata": {
        "colab": {
          "base_uri": "https://localhost:8080/"
        },
        "id": "gopJ5c1WE-sy",
        "outputId": "53ae349f-b403-4170-f822-bb090779419a"
      },
      "execution_count": 7,
      "outputs": [
        {
          "output_type": "execute_result",
          "data": {
            "text/plain": [
              "device(type='cpu')"
            ]
          },
          "metadata": {},
          "execution_count": 7
        }
      ]
    },
    {
      "cell_type": "code",
      "source": [
        "tensor_2 = torch.randint(low=0, high=10,size = (2,4), dtype=torch.int16, device = 'cpu')\n",
        "tensor_2"
      ],
      "metadata": {
        "colab": {
          "base_uri": "https://localhost:8080/"
        },
        "id": "8dLbQDQpFAoV",
        "outputId": "16a1a94e-04b6-40ec-a77a-d7d0c819c873"
      },
      "execution_count": 8,
      "outputs": [
        {
          "output_type": "execute_result",
          "data": {
            "text/plain": [
              "tensor([[0, 3, 5, 3],\n",
              "        [6, 0, 2, 6]], dtype=torch.int16)"
            ]
          },
          "metadata": {},
          "execution_count": 8
        }
      ]
    },
    {
      "cell_type": "code",
      "source": [
        "print(f\"tensor_2 datatype: {tensor_2.dtype}\")\n",
        "print(f\"tensor_2 device: {tensor_2.device}\")\n",
        "print(f\"tensor_2 shape: {tensor_2.shape}\")"
      ],
      "metadata": {
        "colab": {
          "base_uri": "https://localhost:8080/"
        },
        "id": "ib0FppTvJ38w",
        "outputId": "53a4fc87-dadb-4339-daa9-f9e24082e846"
      },
      "execution_count": 9,
      "outputs": [
        {
          "output_type": "stream",
          "name": "stdout",
          "text": [
            "tensor_2 datatype: torch.int16\n",
            "tensor_2 device: cpu\n",
            "tensor_2 shape: torch.Size([2, 4])\n"
          ]
        }
      ]
    },
    {
      "cell_type": "markdown",
      "source": [
        "### Manipulating Tensor (tensor operations)\n",
        "\n",
        "1. Addition\n",
        "2. Subtraction\n",
        "3. Multiplication (element-wise)\n",
        "4. Division\n",
        "5. Matrix Multiplication"
      ],
      "metadata": {
        "id": "gzY7cDnHMz1Y"
      }
    },
    {
      "cell_type": "code",
      "source": [
        "tensor_2 + 10"
      ],
      "metadata": {
        "colab": {
          "base_uri": "https://localhost:8080/"
        },
        "id": "xo-d5TKvLUkO",
        "outputId": "f75f0b91-76af-4b12-ac40-14878497b645"
      },
      "execution_count": 10,
      "outputs": [
        {
          "output_type": "execute_result",
          "data": {
            "text/plain": [
              "tensor([[10, 13, 15, 13],\n",
              "        [16, 10, 12, 16]], dtype=torch.int16)"
            ]
          },
          "metadata": {},
          "execution_count": 10
        }
      ]
    },
    {
      "cell_type": "code",
      "source": [
        "tensor_2 - 10"
      ],
      "metadata": {
        "colab": {
          "base_uri": "https://localhost:8080/"
        },
        "id": "x-9n3WhVNkjB",
        "outputId": "7a6d1cf6-3f23-4a98-d7ce-06c2c0ab8c54"
      },
      "execution_count": 11,
      "outputs": [
        {
          "output_type": "execute_result",
          "data": {
            "text/plain": [
              "tensor([[-10,  -7,  -5,  -7],\n",
              "        [ -4, -10,  -8,  -4]], dtype=torch.int16)"
            ]
          },
          "metadata": {},
          "execution_count": 11
        }
      ]
    },
    {
      "cell_type": "code",
      "source": [
        "tensor_2 / 10"
      ],
      "metadata": {
        "colab": {
          "base_uri": "https://localhost:8080/"
        },
        "id": "Y2PcjIW4Npsm",
        "outputId": "9039ca53-21d1-4f22-fa72-850643ebdf40"
      },
      "execution_count": 12,
      "outputs": [
        {
          "output_type": "execute_result",
          "data": {
            "text/plain": [
              "tensor([[0.0000, 0.3000, 0.5000, 0.3000],\n",
              "        [0.6000, 0.0000, 0.2000, 0.6000]])"
            ]
          },
          "metadata": {},
          "execution_count": 12
        }
      ]
    },
    {
      "cell_type": "code",
      "source": [
        "tensor_2 * 10"
      ],
      "metadata": {
        "colab": {
          "base_uri": "https://localhost:8080/"
        },
        "id": "6hUrcwEtNtRn",
        "outputId": "96da2a43-4e97-4d1c-f071-bad5d1d674ea"
      },
      "execution_count": 13,
      "outputs": [
        {
          "output_type": "execute_result",
          "data": {
            "text/plain": [
              "tensor([[ 0, 30, 50, 30],\n",
              "        [60,  0, 20, 60]], dtype=torch.int16)"
            ]
          },
          "metadata": {},
          "execution_count": 13
        }
      ]
    },
    {
      "cell_type": "code",
      "source": [
        "# pytorch pre-defined functions\n",
        "torch.mul(tensor_2, 10)"
      ],
      "metadata": {
        "colab": {
          "base_uri": "https://localhost:8080/"
        },
        "id": "ntSasqfgOgUE",
        "outputId": "0e1c88fc-521f-4fd5-a6d7-21f4dfc92b76"
      },
      "execution_count": 14,
      "outputs": [
        {
          "output_type": "execute_result",
          "data": {
            "text/plain": [
              "tensor([[ 0, 30, 50, 30],\n",
              "        [60,  0, 20, 60]], dtype=torch.int16)"
            ]
          },
          "metadata": {},
          "execution_count": 14
        }
      ]
    },
    {
      "cell_type": "code",
      "source": [
        "torch.add(tensor_2, 10)"
      ],
      "metadata": {
        "colab": {
          "base_uri": "https://localhost:8080/"
        },
        "id": "qiFtAnc_PVQa",
        "outputId": "76d8f056-5c6d-4537-e032-d768370385be"
      },
      "execution_count": 15,
      "outputs": [
        {
          "output_type": "execute_result",
          "data": {
            "text/plain": [
              "tensor([[10, 13, 15, 13],\n",
              "        [16, 10, 12, 16]], dtype=torch.int16)"
            ]
          },
          "metadata": {},
          "execution_count": 15
        }
      ]
    },
    {
      "cell_type": "markdown",
      "source": [
        "### Matrix Multiplication\n",
        "\n",
        "Two main ways of multiplication in neural networks and deep learning are:\n",
        "1. Element wise multiplication\n",
        "2. Matrix multiplication (dot product)\n",
        "\n",
        "There are two conditions that needs to be satisfied for matrix multiplication:\n",
        "1. Inner dimensions must match nxm mxn\n",
        "\n",
        "*   torch.matmul(torch.rand(3,2), torch.rand(3,2)) this will throw an error\n",
        "*   torch.matmul(torch.rand(3,2), torch.rand(2,4)) this will not throw an error\n",
        "\n",
        "2. The resulting matrix has the shape of outer dimension\n",
        "\n",
        "*  torch.matmul(torch.rand(3,2), torch.rand(2,4)) this will not throw an error\n",
        "*  This resulting matrix has shape of 3x4\n",
        "\n"
      ],
      "metadata": {
        "id": "T_I_dUk2RK_r"
      }
    },
    {
      "cell_type": "code",
      "source": [
        "# matrix multiplication\n",
        "tensor_4 = torch.tensor([2,3,4])\n",
        "tensor_5 = torch.tensor([5,6,7])\n",
        "mul_tensor = torch.matmul(tensor_4, tensor_5)\n",
        "mul_tensor"
      ],
      "metadata": {
        "id": "D6NEsuLCPvXf",
        "colab": {
          "base_uri": "https://localhost:8080/"
        },
        "outputId": "af0f6d61-270e-48d0-d771-ff024bea534c"
      },
      "execution_count": 20,
      "outputs": [
        {
          "output_type": "execute_result",
          "data": {
            "text/plain": [
              "tensor(56)"
            ]
          },
          "metadata": {},
          "execution_count": 20
        }
      ]
    },
    {
      "cell_type": "code",
      "source": [
        "torch.matmul(torch.rand(3,2), torch.rand(2,4))"
      ],
      "metadata": {
        "colab": {
          "base_uri": "https://localhost:8080/"
        },
        "id": "rBNf_ljbFEpY",
        "outputId": "fa68e2a8-2eb7-41c2-9f04-4d29a662f25b"
      },
      "execution_count": 21,
      "outputs": [
        {
          "output_type": "execute_result",
          "data": {
            "text/plain": [
              "tensor([[0.9025, 1.4463, 0.9524, 0.7953],\n",
              "        [0.4210, 0.5028, 0.4218, 0.3256],\n",
              "        [0.8657, 1.4934, 0.9274, 0.7908]])"
            ]
          },
          "metadata": {},
          "execution_count": 21
        }
      ]
    },
    {
      "cell_type": "code",
      "source": [
        "tensor_mul_1 = torch.tensor([[1,2],\n",
        "              [3,4],\n",
        "              [5,6]])\n",
        "tensor_mul_2 = torch.tensor([[7,8],[9,10],[11,12]])\n",
        "tensor_mul_1.shape, tensor_mul_2.shape"
      ],
      "metadata": {
        "colab": {
          "base_uri": "https://localhost:8080/"
        },
        "id": "zV6IP96dKlQI",
        "outputId": "e457ec8a-256f-467c-cc2b-c98e844b8fe5"
      },
      "execution_count": 25,
      "outputs": [
        {
          "output_type": "execute_result",
          "data": {
            "text/plain": [
              "(torch.Size([3, 2]), torch.Size([3, 2]))"
            ]
          },
          "metadata": {},
          "execution_count": 25
        }
      ]
    },
    {
      "cell_type": "markdown",
      "source": [
        "#### There is a shape error and to solve it one way is to take transpose to get the matrices into shape"
      ],
      "metadata": {
        "id": "b8ADczacNZOp"
      }
    },
    {
      "cell_type": "code",
      "source": [
        "torch.matmul(tensor_mul_1, tensor_mul_2.T)\n",
        "torch.matmul(tensor_mul_1, tensor_mul_2.T).shape"
      ],
      "metadata": {
        "colab": {
          "base_uri": "https://localhost:8080/"
        },
        "id": "kJPuiIxdNvXa",
        "outputId": "ad9d4672-dde3-4c02-995d-24aa99db138d"
      },
      "execution_count": 31,
      "outputs": [
        {
          "output_type": "execute_result",
          "data": {
            "text/plain": [
              "torch.Size([3, 3])"
            ]
          },
          "metadata": {},
          "execution_count": 31
        }
      ]
    },
    {
      "cell_type": "code",
      "source": [],
      "metadata": {
        "id": "HziL1zkSOEbp"
      },
      "execution_count": null,
      "outputs": []
    }
  ]
}