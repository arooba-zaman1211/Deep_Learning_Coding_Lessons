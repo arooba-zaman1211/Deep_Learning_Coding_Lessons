{
  "nbformat": 4,
  "nbformat_minor": 0,
  "metadata": {
    "colab": {
      "provenance": [],
      "authorship_tag": "ABX9TyMmwjozaREBwLt4pQO0AcQL",
      "include_colab_link": true
    },
    "kernelspec": {
      "name": "python3",
      "display_name": "Python 3"
    },
    "language_info": {
      "name": "python"
    }
  },
  "cells": [
    {
      "cell_type": "markdown",
      "metadata": {
        "id": "view-in-github",
        "colab_type": "text"
      },
      "source": [
        "<a href=\"https://colab.research.google.com/github/arooba-zaman1211/Deep_Learning_using_Pytorch/blob/main/Lesson_6.ipynb\" target=\"_parent\"><img src=\"https://colab.research.google.com/assets/colab-badge.svg\" alt=\"Open In Colab\"/></a>"
      ]
    },
    {
      "cell_type": "markdown",
      "source": [
        "### Pytorch tensors and Numpy\n",
        "\n",
        "* Data in numpy to pytorch tensor -> `torch.from_numpy(ndarray)`\n",
        "* Data from tensor to numpy array -> `torch.tensor.numpy()`"
      ],
      "metadata": {
        "id": "giAvvwZXzgNZ"
      }
    },
    {
      "cell_type": "code",
      "source": [
        "import torch\n",
        "import numpy as np"
      ],
      "metadata": {
        "id": "Rh76AKvCzf3s"
      },
      "execution_count": 1,
      "outputs": []
    },
    {
      "cell_type": "code",
      "execution_count": 4,
      "metadata": {
        "colab": {
          "base_uri": "https://localhost:8080/"
        },
        "id": "anPRT1aDyu_4",
        "outputId": "97d9b9e7-8b56-4362-fd74-c47767173bf9"
      },
      "outputs": [
        {
          "output_type": "execute_result",
          "data": {
            "text/plain": [
              "(tensor([1., 2., 3., 4., 5., 6., 7., 8.], dtype=torch.float64),\n",
              " array([1., 2., 3., 4., 5., 6., 7., 8.]))"
            ]
          },
          "metadata": {},
          "execution_count": 4
        }
      ],
      "source": [
        "array = np.arange(1.0 , 9.0)\n",
        "tensor = torch.from_numpy(array) # pytorch reflects the default data type of numpy that is float64 in this case\n",
        "tensor , array"
      ]
    },
    {
      "cell_type": "code",
      "source": [
        "tensor"
      ],
      "metadata": {
        "colab": {
          "base_uri": "https://localhost:8080/"
        },
        "id": "fJkuPkGy0anQ",
        "outputId": "6567bdd2-466e-4811-e6ac-990eb6c31282"
      },
      "execution_count": 5,
      "outputs": [
        {
          "output_type": "execute_result",
          "data": {
            "text/plain": [
              "tensor([1., 2., 3., 4., 5., 6., 7., 8.], dtype=torch.float64)"
            ]
          },
          "metadata": {},
          "execution_count": 5
        }
      ]
    },
    {
      "cell_type": "code",
      "source": [
        "array = tensor.numpy()\n",
        "array"
      ],
      "metadata": {
        "colab": {
          "base_uri": "https://localhost:8080/"
        },
        "id": "kvOPFUnG1a31",
        "outputId": "209e0f8a-fc1d-4fb4-ef63-8cb4275d7792"
      },
      "execution_count": 8,
      "outputs": [
        {
          "output_type": "execute_result",
          "data": {
            "text/plain": [
              "array([1., 2., 3., 4., 5., 6., 7., 8.])"
            ]
          },
          "metadata": {},
          "execution_count": 8
        }
      ]
    },
    {
      "cell_type": "markdown",
      "source": [
        "### Pytorch reproducibility\n",
        "\n",
        "To reduce the randomess of values the concept of `random seed` comes into picture"
      ],
      "metadata": {
        "id": "s61jiO432FqB"
      }
    },
    {
      "cell_type": "code",
      "source": [
        "tensor_1 = torch.rand(3,4)\n",
        "tensor_2 = torch.rand(3,4)\n",
        "\n",
        "print(tensor_1)\n",
        "print(tensor_2)\n",
        "print(tensor_1 == tensor_2)"
      ],
      "metadata": {
        "colab": {
          "base_uri": "https://localhost:8080/"
        },
        "id": "Tdt67h9a1hDd",
        "outputId": "efbc89b7-9963-48b5-ede3-645856455eba"
      },
      "execution_count": 9,
      "outputs": [
        {
          "output_type": "stream",
          "name": "stdout",
          "text": [
            "tensor([[0.2062, 0.1756, 0.0899, 0.7550],\n",
            "        [0.1280, 0.0608, 0.5197, 0.0743],\n",
            "        [0.5894, 0.8569, 0.5711, 0.1407]])\n",
            "tensor([[0.0062, 0.4143, 0.2576, 0.0654],\n",
            "        [0.4701, 0.3141, 0.8269, 0.7657],\n",
            "        [0.8490, 0.2362, 0.4522, 0.8665]])\n",
            "tensor([[False, False, False, False],\n",
            "        [False, False, False, False],\n",
            "        [False, False, False, False]])\n"
          ]
        }
      ]
    },
    {
      "cell_type": "code",
      "source": [
        "# here we have controlled the randomness by using manual random seed value\n",
        "Random_seed = 22\n",
        "torch.manual_seed(Random_seed)\n",
        "tensor_1 = torch.rand(3,4)\n",
        "\n",
        "torch.manual_seed(Random_seed)\n",
        "tensor_2 = torch.rand(3,4)\n",
        "\n",
        "print(tensor_1)\n",
        "print(tensor_2)\n",
        "print(tensor_1 == tensor_2)"
      ],
      "metadata": {
        "colab": {
          "base_uri": "https://localhost:8080/"
        },
        "id": "_EIdFXF13-Mb",
        "outputId": "e23c666d-1aa9-4c33-c6c0-914477eab3c9"
      },
      "execution_count": 12,
      "outputs": [
        {
          "output_type": "stream",
          "name": "stdout",
          "text": [
            "tensor([[0.3659, 0.7025, 0.3104, 0.0097],\n",
            "        [0.6577, 0.1947, 0.9506, 0.6887],\n",
            "        [0.8174, 0.7575, 0.7492, 0.6874]])\n",
            "tensor([[0.3659, 0.7025, 0.3104, 0.0097],\n",
            "        [0.6577, 0.1947, 0.9506, 0.6887],\n",
            "        [0.8174, 0.7575, 0.7492, 0.6874]])\n",
            "tensor([[True, True, True, True],\n",
            "        [True, True, True, True],\n",
            "        [True, True, True, True]])\n"
          ]
        }
      ]
    },
    {
      "cell_type": "code",
      "source": [
        "device = 'cuda' if torch.cuda.is_available() else 'cpu'\n",
        "device"
      ],
      "metadata": {
        "colab": {
          "base_uri": "https://localhost:8080/",
          "height": 35
        },
        "id": "Vp2IKfJ_4Na-",
        "outputId": "e2fbd044-ed90-44a6-f63b-fd05cedf4899"
      },
      "execution_count": 13,
      "outputs": [
        {
          "output_type": "execute_result",
          "data": {
            "text/plain": [
              "'cpu'"
            ],
            "application/vnd.google.colaboratory.intrinsic+json": {
              "type": "string"
            }
          },
          "metadata": {},
          "execution_count": 13
        }
      ]
    },
    {
      "cell_type": "code",
      "source": [],
      "metadata": {
        "id": "yWmee1jm6JC1"
      },
      "execution_count": null,
      "outputs": []
    }
  ]
}