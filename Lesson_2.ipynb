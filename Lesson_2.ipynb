{
  "nbformat": 4,
  "nbformat_minor": 0,
  "metadata": {
    "colab": {
      "provenance": [],
      "authorship_tag": "ABX9TyPbxEEMT+q81ZHPM57t//+1",
      "include_colab_link": true
    },
    "kernelspec": {
      "name": "python3",
      "display_name": "Python 3"
    },
    "language_info": {
      "name": "python"
    }
  },
  "cells": [
    {
      "cell_type": "markdown",
      "metadata": {
        "id": "view-in-github",
        "colab_type": "text"
      },
      "source": [
        "<a href=\"https://colab.research.google.com/github/arooba-zaman1211/Deep_Learning_using_Pytorch/blob/main/Lesson_2.ipynb\" target=\"_parent\"><img src=\"https://colab.research.google.com/assets/colab-badge.svg\" alt=\"Open In Colab\"/></a>"
      ]
    },
    {
      "cell_type": "code",
      "execution_count": 2,
      "metadata": {
        "id": "tq6z-jqRNriO"
      },
      "outputs": [],
      "source": [
        "import torch"
      ]
    },
    {
      "cell_type": "code",
      "source": [
        "T = torch.tensor([[[[1,2,3],[4,5,6]]]])\n",
        "T"
      ],
      "metadata": {
        "colab": {
          "base_uri": "https://localhost:8080/"
        },
        "id": "-8QpjwhkOfJ6",
        "outputId": "d47d2776-4ca4-450c-94db-15c3752e32d6"
      },
      "execution_count": 3,
      "outputs": [
        {
          "output_type": "execute_result",
          "data": {
            "text/plain": [
              "tensor([[[[1, 2, 3],\n",
              "          [4, 5, 6]]]])"
            ]
          },
          "metadata": {},
          "execution_count": 3
        }
      ]
    },
    {
      "cell_type": "code",
      "source": [
        "T.ndim"
      ],
      "metadata": {
        "colab": {
          "base_uri": "https://localhost:8080/"
        },
        "id": "ABE6BaqxOtmd",
        "outputId": "85b22c9e-9f6b-484a-b225-be15316049b6"
      },
      "execution_count": 4,
      "outputs": [
        {
          "output_type": "execute_result",
          "data": {
            "text/plain": [
              "4"
            ]
          },
          "metadata": {},
          "execution_count": 4
        }
      ]
    },
    {
      "cell_type": "code",
      "source": [
        "T.shape"
      ],
      "metadata": {
        "colab": {
          "base_uri": "https://localhost:8080/"
        },
        "id": "jFXgSEO5Ovlz",
        "outputId": "e1e0bdcf-c65e-4949-815b-d71f3141ca0e"
      },
      "execution_count": 5,
      "outputs": [
        {
          "output_type": "execute_result",
          "data": {
            "text/plain": [
              "torch.Size([1, 1, 2, 3])"
            ]
          },
          "metadata": {},
          "execution_count": 5
        }
      ]
    },
    {
      "cell_type": "markdown",
      "source": [
        "1. Batch Size (1): This dimension represents the number of samples in a batch. In many deep learning tasks, you process multiple samples at once for efficiency. In this case, the batch size is 1, meaning there's only one sample in the batch.\n",
        "\n",
        "2. Channels (1): This dimension typically represents the number of channels or features in the data. For example, in image data, this could be the number of color channels (e.g., 3 for RGB images). Here, there is only one channel, which could represent a grayscale image or a single feature map.\n",
        "\n",
        "3. Height (2): This dimension represents the number of rows in the data. In the context of images, this is the height of the image or feature map. Here, the height is 2, so the data has 2 rows.\n",
        "\n",
        "4. Width (3): This dimension represents the number of columns in the data. In images, this is the width of the image or feature map. Here, the width is 3, so the data has 3 columns."
      ],
      "metadata": {
        "id": "TfXAo61bPk06"
      }
    },
    {
      "cell_type": "markdown",
      "source": [
        "### Random tensors\n",
        "\n",
        "why random tensors?\n",
        "\n",
        "Random tensors are important because the way many neural networks learn is that they start with tensors full of random numbers and then adjust those random numbers to better represent the data.\n",
        "\n",
        "`Start with random numbers-> look at data-> update random numbers-> look at data-> update random numbers`"
      ],
      "metadata": {
        "id": "f1E6a4x-QKFL"
      }
    },
    {
      "cell_type": "code",
      "source": [
        "# Create a random tensor of size (3,4)\n",
        "\n",
        "random_tensor = torch.rand(3,4)\n",
        "random_tensor"
      ],
      "metadata": {
        "colab": {
          "base_uri": "https://localhost:8080/"
        },
        "id": "MYldvQnoQoyu",
        "outputId": "d6ef7569-1bda-40f2-fa51-b202c1051ad9"
      },
      "execution_count": 6,
      "outputs": [
        {
          "output_type": "execute_result",
          "data": {
            "text/plain": [
              "tensor([[0.6243, 0.8417, 0.4228, 0.5172],\n",
              "        [0.6482, 0.0011, 0.0465, 0.5274],\n",
              "        [0.8391, 0.2152, 0.3442, 0.2008]])"
            ]
          },
          "metadata": {},
          "execution_count": 6
        }
      ]
    },
    {
      "cell_type": "code",
      "source": [
        "random_tensor.ndim"
      ],
      "metadata": {
        "colab": {
          "base_uri": "https://localhost:8080/"
        },
        "id": "2t-aalYPRPk7",
        "outputId": "d9fe5895-43d9-4a59-c940-46eaec2709e3"
      },
      "execution_count": 7,
      "outputs": [
        {
          "output_type": "execute_result",
          "data": {
            "text/plain": [
              "2"
            ]
          },
          "metadata": {},
          "execution_count": 7
        }
      ]
    },
    {
      "cell_type": "code",
      "source": [
        "# to create more dimensions we have to give another argument to this function\n",
        "random_tensor2 = torch.rand(1,2,4)\n",
        "random_tensor2"
      ],
      "metadata": {
        "colab": {
          "base_uri": "https://localhost:8080/"
        },
        "id": "VkKG-LDARZez",
        "outputId": "a110c6d7-695c-47f4-dd05-64f408bb7786"
      },
      "execution_count": 8,
      "outputs": [
        {
          "output_type": "execute_result",
          "data": {
            "text/plain": [
              "tensor([[[0.8427, 0.6124, 0.4919, 0.7084],\n",
              "         [0.7415, 0.9666, 0.8423, 0.2825]]])"
            ]
          },
          "metadata": {},
          "execution_count": 8
        }
      ]
    },
    {
      "cell_type": "code",
      "source": [
        " random_tensor2.ndim"
      ],
      "metadata": {
        "colab": {
          "base_uri": "https://localhost:8080/"
        },
        "id": "pypw3h0bSZSX",
        "outputId": "84162456-58f1-4fbd-a91a-c62b14e3e4c0"
      },
      "execution_count": 9,
      "outputs": [
        {
          "output_type": "execute_result",
          "data": {
            "text/plain": [
              "3"
            ]
          },
          "metadata": {},
          "execution_count": 9
        }
      ]
    },
    {
      "cell_type": "code",
      "source": [
        "# Create a random tensor with similar shape to an image tensor\n",
        "\n",
        "random_image = torch.rand(size=(224,224,3)) # height, width and color channels\n",
        "random_image.shape, random_image.ndim"
      ],
      "metadata": {
        "colab": {
          "base_uri": "https://localhost:8080/"
        },
        "id": "fs4Y3pp3Sj6Y",
        "outputId": "b6dddafe-b301-428c-9bd0-e7ca555c50be"
      },
      "execution_count": 12,
      "outputs": [
        {
          "output_type": "execute_result",
          "data": {
            "text/plain": [
              "(torch.Size([224, 224, 3]), 3)"
            ]
          },
          "metadata": {},
          "execution_count": 12
        }
      ]
    },
    {
      "cell_type": "code",
      "source": [
        "# If you need a tensor with 4 dimensions, you can add another dimension\n",
        "random_tensor3 = torch.rand(1,5,10,10)\n",
        "random_tensor3"
      ],
      "metadata": {
        "colab": {
          "base_uri": "https://localhost:8080/"
        },
        "id": "ONu_pUYkTUwI",
        "outputId": "776e3a3e-94b1-41a5-d0f5-5175e44377b7"
      },
      "execution_count": 17,
      "outputs": [
        {
          "output_type": "execute_result",
          "data": {
            "text/plain": [
              "tensor([[[[0.6702, 0.4197, 0.1262, 0.1289, 0.5131, 0.0370, 0.1586, 0.4491,\n",
              "           0.6566, 0.6763],\n",
              "          [0.1554, 0.0451, 0.9775, 0.8062, 0.8467, 0.8139, 0.7772, 0.3522,\n",
              "           0.3202, 0.2226],\n",
              "          [0.7387, 0.9599, 0.0968, 0.8085, 0.9092, 0.0353, 0.4325, 0.9209,\n",
              "           0.8910, 0.2603],\n",
              "          [0.4005, 0.1649, 0.6326, 0.1357, 0.5473, 0.4121, 0.2831, 0.8120,\n",
              "           0.8645, 0.3230],\n",
              "          [0.0239, 0.4103, 0.9725, 0.5293, 0.5359, 0.3837, 0.1515, 0.3183,\n",
              "           0.4687, 0.3941],\n",
              "          [0.7708, 0.3531, 0.8298, 0.4947, 0.3174, 0.8015, 0.2484, 0.6846,\n",
              "           0.3581, 0.3615],\n",
              "          [0.3520, 0.5137, 0.5082, 0.4577, 0.0652, 0.6748, 0.6315, 0.8517,\n",
              "           0.1144, 0.7782],\n",
              "          [0.5780, 0.7592, 0.2405, 0.3889, 0.1950, 0.0281, 0.4690, 0.2516,\n",
              "           0.3461, 0.3040],\n",
              "          [0.3134, 0.1277, 0.4990, 0.4674, 0.2078, 0.7754, 0.7841, 0.4972,\n",
              "           0.1862, 0.8521],\n",
              "          [0.1307, 0.9038, 0.6064, 0.0383, 0.8116, 0.5722, 0.3565, 0.8085,\n",
              "           0.6754, 0.0504]],\n",
              "\n",
              "         [[0.5185, 0.1733, 0.2663, 0.3465, 0.3978, 0.1682, 0.0977, 0.3397,\n",
              "           0.2826, 0.4262],\n",
              "          [0.0819, 0.9001, 0.6364, 0.5025, 0.3523, 0.7858, 0.7498, 0.2649,\n",
              "           0.5083, 0.2904],\n",
              "          [0.7562, 0.3218, 0.8564, 0.3030, 0.4253, 0.0240, 0.5408, 0.7138,\n",
              "           0.2435, 0.2014],\n",
              "          [0.2095, 0.7106, 0.1074, 0.3578, 0.0695, 0.9876, 0.8569, 0.6585,\n",
              "           0.6261, 0.1173],\n",
              "          [0.5625, 0.7757, 0.3941, 0.1442, 0.6887, 0.8474, 0.1871, 0.2340,\n",
              "           0.7373, 0.9568],\n",
              "          [0.6675, 0.7680, 0.4058, 0.1194, 0.9657, 0.1271, 0.5375, 0.9881,\n",
              "           0.6512, 0.2497],\n",
              "          [0.8708, 0.5594, 0.3757, 0.1011, 0.7785, 0.0233, 0.8895, 0.7195,\n",
              "           0.4497, 0.6285],\n",
              "          [0.8927, 0.5877, 0.8851, 0.3772, 0.2570, 0.2260, 0.4264, 0.9711,\n",
              "           0.8767, 0.9327],\n",
              "          [0.4566, 0.4721, 0.5746, 0.8461, 0.0716, 0.7898, 0.0146, 0.4398,\n",
              "           0.1275, 0.0439],\n",
              "          [0.4042, 0.0111, 0.0442, 0.5395, 0.7676, 0.0785, 0.5219, 0.8717,\n",
              "           0.3934, 0.3964]],\n",
              "\n",
              "         [[0.7103, 0.0379, 0.7603, 0.4133, 0.4047, 0.5153, 0.0633, 0.6282,\n",
              "           0.7696, 0.9222],\n",
              "          [0.3461, 0.2177, 0.1526, 0.4442, 0.9533, 0.8412, 0.2334, 0.7002,\n",
              "           0.0506, 0.1919],\n",
              "          [0.0178, 0.3383, 0.5853, 0.2772, 0.3063, 0.7071, 0.1928, 0.8163,\n",
              "           0.3867, 0.5791],\n",
              "          [0.0625, 0.3731, 0.2421, 0.2638, 0.9242, 0.9135, 0.1458, 0.0365,\n",
              "           0.0475, 0.3542],\n",
              "          [0.4048, 0.0199, 0.3743, 0.0523, 0.1493, 0.6190, 0.5723, 0.1574,\n",
              "           0.2067, 0.9828],\n",
              "          [0.4080, 0.6756, 0.1575, 0.5236, 0.3108, 0.5447, 0.7013, 0.0091,\n",
              "           0.3243, 0.6138],\n",
              "          [0.2156, 0.8747, 0.6512, 0.8158, 0.8689, 0.2021, 0.8361, 0.9350,\n",
              "           0.7163, 0.2487],\n",
              "          [0.8522, 0.4082, 0.8455, 0.6692, 0.2907, 0.8384, 0.7841, 0.5669,\n",
              "           0.0125, 0.7593],\n",
              "          [0.5241, 0.7308, 0.4116, 0.6672, 0.8423, 0.7626, 0.1555, 0.5710,\n",
              "           0.7035, 0.3371],\n",
              "          [0.0561, 0.7105, 0.6309, 0.3251, 0.0826, 0.8301, 0.8452, 0.6013,\n",
              "           0.7261, 0.0927]],\n",
              "\n",
              "         [[0.3671, 0.6275, 0.2828, 0.5265, 0.1229, 0.4768, 0.6228, 0.3516,\n",
              "           0.9535, 0.1420],\n",
              "          [0.0309, 0.0426, 0.1139, 0.0266, 0.7356, 0.4776, 0.9955, 0.4864,\n",
              "           0.6004, 0.4187],\n",
              "          [0.7630, 0.6888, 0.3688, 0.3241, 0.6941, 0.0865, 0.2224, 0.5633,\n",
              "           0.2778, 0.4101],\n",
              "          [0.7017, 0.2294, 0.5092, 0.9613, 0.7346, 0.0098, 0.7148, 0.1891,\n",
              "           0.9447, 0.4262],\n",
              "          [0.0810, 0.6437, 0.2853, 0.9171, 0.5021, 0.1452, 0.4828, 0.1579,\n",
              "           0.3129, 0.6043],\n",
              "          [0.9793, 0.5372, 0.3204, 0.3453, 0.0808, 0.5756, 0.5427, 0.4566,\n",
              "           0.4750, 0.5147],\n",
              "          [0.0963, 0.3103, 0.2567, 0.3304, 0.0471, 0.1722, 0.7358, 0.7323,\n",
              "           0.4531, 0.7530],\n",
              "          [0.4631, 0.6864, 0.9306, 0.4020, 0.9597, 0.0511, 0.6699, 0.1396,\n",
              "           0.9658, 0.5224],\n",
              "          [0.1537, 0.9077, 0.7988, 0.2138, 0.7707, 0.9602, 0.9607, 0.2013,\n",
              "           0.5387, 0.9314],\n",
              "          [0.9931, 0.5411, 0.2472, 0.6068, 0.1882, 0.7092, 0.0678, 0.6674,\n",
              "           0.3198, 0.2312]],\n",
              "\n",
              "         [[0.5868, 0.5905, 0.3667, 0.6241, 0.2367, 0.4466, 0.7225, 0.2724,\n",
              "           0.0079, 0.9334],\n",
              "          [0.0361, 0.6671, 0.1706, 0.4621, 0.6324, 0.7916, 0.3068, 0.3655,\n",
              "           0.6763, 0.1163],\n",
              "          [0.5434, 0.3164, 0.5487, 0.3192, 0.2293, 0.8296, 0.3409, 0.3917,\n",
              "           0.9531, 0.5831],\n",
              "          [0.2039, 0.9178, 0.1350, 0.0495, 0.5435, 0.9015, 0.9028, 0.6173,\n",
              "           0.0599, 0.4886],\n",
              "          [0.5975, 0.6295, 0.7183, 0.4768, 0.1849, 0.2543, 0.6723, 0.9054,\n",
              "           0.2365, 0.3204],\n",
              "          [0.3141, 0.3850, 0.8482, 0.5683, 0.1459, 0.0146, 0.8481, 0.5036,\n",
              "           0.2927, 0.4106],\n",
              "          [0.5439, 0.6524, 0.2162, 0.4236, 0.4209, 0.5700, 0.0748, 0.4913,\n",
              "           0.1961, 0.4446],\n",
              "          [0.8801, 0.8598, 0.3315, 0.0112, 0.1594, 0.4590, 0.0336, 0.4362,\n",
              "           0.1767, 0.8396],\n",
              "          [0.2524, 0.8985, 0.3266, 0.4897, 0.9076, 0.8556, 0.7583, 0.6969,\n",
              "           0.5743, 0.9534],\n",
              "          [0.7311, 0.2766, 0.2462, 0.7786, 0.8675, 0.6165, 0.5994, 0.6913,\n",
              "           0.7103, 0.1718]]]])"
            ]
          },
          "metadata": {},
          "execution_count": 17
        }
      ]
    },
    {
      "cell_type": "code",
      "source": [
        "random_tensor3.ndim"
      ],
      "metadata": {
        "colab": {
          "base_uri": "https://localhost:8080/"
        },
        "id": "NOx8a-q8U266",
        "outputId": "cc7eadc3-4bed-466d-9039-5fa98d1acff9"
      },
      "execution_count": 16,
      "outputs": [
        {
          "output_type": "execute_result",
          "data": {
            "text/plain": [
              "4"
            ]
          },
          "metadata": {},
          "execution_count": 16
        }
      ]
    },
    {
      "cell_type": "markdown",
      "source": [
        "### Zeros and ones"
      ],
      "metadata": {
        "id": "vH-zAVpCWQCu"
      }
    },
    {
      "cell_type": "code",
      "source": [
        " zeros = torch.zeros(3,4)\n",
        " zeros"
      ],
      "metadata": {
        "colab": {
          "base_uri": "https://localhost:8080/"
        },
        "id": "Ah6H565yWVHr",
        "outputId": "8fd162fc-617f-4be9-a650-cc0381fdf9a1"
      },
      "execution_count": 18,
      "outputs": [
        {
          "output_type": "execute_result",
          "data": {
            "text/plain": [
              "tensor([[0., 0., 0., 0.],\n",
              "        [0., 0., 0., 0.],\n",
              "        [0., 0., 0., 0.]])"
            ]
          },
          "metadata": {},
          "execution_count": 18
        }
      ]
    },
    {
      "cell_type": "code",
      "source": [
        "zeros*random_tensor"
      ],
      "metadata": {
        "colab": {
          "base_uri": "https://localhost:8080/"
        },
        "id": "f8EsQc30Wb2M",
        "outputId": "01403f9a-82ff-45d9-9709-06826dd8fd9e"
      },
      "execution_count": 19,
      "outputs": [
        {
          "output_type": "execute_result",
          "data": {
            "text/plain": [
              "tensor([[0., 0., 0., 0.],\n",
              "        [0., 0., 0., 0.],\n",
              "        [0., 0., 0., 0.]])"
            ]
          },
          "metadata": {},
          "execution_count": 19
        }
      ]
    },
    {
      "cell_type": "code",
      "source": [
        "ones = torch.ones(3,4)\n",
        "ones"
      ],
      "metadata": {
        "colab": {
          "base_uri": "https://localhost:8080/"
        },
        "id": "3_2aETuAWkJm",
        "outputId": "27478124-abeb-49bb-cbd1-c1c48496e74e"
      },
      "execution_count": 20,
      "outputs": [
        {
          "output_type": "execute_result",
          "data": {
            "text/plain": [
              "tensor([[1., 1., 1., 1.],\n",
              "        [1., 1., 1., 1.],\n",
              "        [1., 1., 1., 1.]])"
            ]
          },
          "metadata": {},
          "execution_count": 20
        }
      ]
    },
    {
      "cell_type": "code",
      "source": [
        "ones * random_tensor"
      ],
      "metadata": {
        "colab": {
          "base_uri": "https://localhost:8080/"
        },
        "id": "3nturwUEWrz7",
        "outputId": "f487bc86-688f-41a5-bceb-c36c57a66dff"
      },
      "execution_count": 21,
      "outputs": [
        {
          "output_type": "execute_result",
          "data": {
            "text/plain": [
              "tensor([[0.6243, 0.8417, 0.4228, 0.5172],\n",
              "        [0.6482, 0.0011, 0.0465, 0.5274],\n",
              "        [0.8391, 0.2152, 0.3442, 0.2008]])"
            ]
          },
          "metadata": {},
          "execution_count": 21
        }
      ]
    },
    {
      "cell_type": "code",
      "source": [
        "zeros * random_tensor[0,1]"
      ],
      "metadata": {
        "colab": {
          "base_uri": "https://localhost:8080/"
        },
        "id": "ecBzz96HWxqV",
        "outputId": "0f724798-ba0e-4e86-e2e7-8f01f2443dad"
      },
      "execution_count": 25,
      "outputs": [
        {
          "output_type": "execute_result",
          "data": {
            "text/plain": [
              "tensor([[0., 0., 0., 0.],\n",
              "        [0., 0., 0., 0.],\n",
              "        [0., 0., 0., 0.]])"
            ]
          },
          "metadata": {},
          "execution_count": 25
        }
      ]
    },
    {
      "cell_type": "code",
      "source": [
        "zeros * random_tensor[0,:]"
      ],
      "metadata": {
        "colab": {
          "base_uri": "https://localhost:8080/"
        },
        "id": "PUm44U_tXEiP",
        "outputId": "248e5f8a-e90f-4515-9270-bf2876e6a4fb"
      },
      "execution_count": 27,
      "outputs": [
        {
          "output_type": "execute_result",
          "data": {
            "text/plain": [
              "tensor([[0., 0., 0., 0.],\n",
              "        [0., 0., 0., 0.],\n",
              "        [0., 0., 0., 0.]])"
            ]
          },
          "metadata": {},
          "execution_count": 27
        }
      ]
    },
    {
      "cell_type": "code",
      "source": [
        "random_tensor = torch.rand(5,3,4)\n",
        "random_tensor"
      ],
      "metadata": {
        "colab": {
          "base_uri": "https://localhost:8080/"
        },
        "id": "oPLNWb89YHBc",
        "outputId": "a42c3162-8f07-4f28-d49d-28e10663e776"
      },
      "execution_count": 28,
      "outputs": [
        {
          "output_type": "execute_result",
          "data": {
            "text/plain": [
              "tensor([[[0.2724, 0.3893, 0.9723, 0.3899],\n",
              "         [0.4726, 0.9836, 0.9843, 0.2562],\n",
              "         [0.4824, 0.1676, 0.2181, 0.5755]],\n",
              "\n",
              "        [[0.8266, 0.2633, 0.3334, 0.8933],\n",
              "         [0.0972, 0.7582, 0.5374, 0.7197],\n",
              "         [0.5133, 0.5362, 0.9120, 0.4415]],\n",
              "\n",
              "        [[0.5891, 0.1071, 0.0269, 0.9408],\n",
              "         [0.8568, 0.6006, 0.5072, 0.8562],\n",
              "         [0.9081, 0.6231, 0.8027, 0.5013]],\n",
              "\n",
              "        [[0.3984, 0.9605, 0.5555, 0.3318],\n",
              "         [0.9398, 0.7031, 0.9139, 0.2843],\n",
              "         [0.2379, 0.8563, 0.7526, 0.3812]],\n",
              "\n",
              "        [[0.4778, 0.0247, 0.0174, 0.8658],\n",
              "         [0.1263, 0.3923, 0.3506, 0.0541],\n",
              "         [0.8394, 0.3276, 0.6205, 0.7078]]])"
            ]
          },
          "metadata": {},
          "execution_count": 28
        }
      ]
    },
    {
      "cell_type": "code",
      "source": [
        "zeros * random_tensor[:,:,:]"
      ],
      "metadata": {
        "colab": {
          "base_uri": "https://localhost:8080/"
        },
        "id": "XE5kw-IXYQMv",
        "outputId": "ee61ff80-0881-4535-835a-c5fdaf19637c"
      },
      "execution_count": 33,
      "outputs": [
        {
          "output_type": "execute_result",
          "data": {
            "text/plain": [
              "tensor([[[0., 0., 0., 0.],\n",
              "         [0., 0., 0., 0.],\n",
              "         [0., 0., 0., 0.]],\n",
              "\n",
              "        [[0., 0., 0., 0.],\n",
              "         [0., 0., 0., 0.],\n",
              "         [0., 0., 0., 0.]],\n",
              "\n",
              "        [[0., 0., 0., 0.],\n",
              "         [0., 0., 0., 0.],\n",
              "         [0., 0., 0., 0.]],\n",
              "\n",
              "        [[0., 0., 0., 0.],\n",
              "         [0., 0., 0., 0.],\n",
              "         [0., 0., 0., 0.]],\n",
              "\n",
              "        [[0., 0., 0., 0.],\n",
              "         [0., 0., 0., 0.],\n",
              "         [0., 0., 0., 0.]]])"
            ]
          },
          "metadata": {},
          "execution_count": 33
        }
      ]
    },
    {
      "cell_type": "code",
      "source": [],
      "metadata": {
        "id": "6BEzOsKrYYWm"
      },
      "execution_count": null,
      "outputs": []
    }
  ]
}