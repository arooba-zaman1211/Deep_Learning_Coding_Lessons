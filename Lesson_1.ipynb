{
  "nbformat": 4,
  "nbformat_minor": 0,
  "metadata": {
    "colab": {
      "provenance": [],
      "authorship_tag": "ABX9TyO7JKcDFdvmbnog7ZRjsD8r",
      "include_colab_link": true
    },
    "kernelspec": {
      "name": "python3",
      "display_name": "Python 3"
    },
    "language_info": {
      "name": "python"
    }
  },
  "cells": [
    {
      "cell_type": "markdown",
      "metadata": {
        "id": "view-in-github",
        "colab_type": "text"
      },
      "source": [
        "<a href=\"https://colab.research.google.com/github/arooba-zaman1211/Deep_Learning_Coding_Lessons/blob/main/Lesson_1.ipynb\" target=\"_parent\"><img src=\"https://colab.research.google.com/assets/colab-badge.svg\" alt=\"Open In Colab\"/></a>"
      ]
    },
    {
      "cell_type": "code",
      "execution_count": 1,
      "metadata": {
        "colab": {
          "base_uri": "https://localhost:8080/"
        },
        "id": "rJyzI1dujpPR",
        "outputId": "886696a0-f62d-4346-fc96-f03646531c31"
      },
      "outputs": [
        {
          "output_type": "stream",
          "name": "stdout",
          "text": [
            "2.3.1+cu121\n"
          ]
        }
      ],
      "source": [
        " import torch\n",
        " print(torch.__version__)"
      ]
    },
    {
      "cell_type": "markdown",
      "source": [
        "## Introduction to Tensors"
      ],
      "metadata": {
        "id": "3i8VWQl5pJNy"
      }
    },
    {
      "cell_type": "code",
      "source": [
        "# scalar\n",
        "# pytorch tensors are created using torch.tensor\n",
        "scalar = torch.tensor(7)\n",
        "scalar"
      ],
      "metadata": {
        "colab": {
          "base_uri": "https://localhost:8080/"
        },
        "id": "Ev8C8lUBpOVV",
        "outputId": "b6efea80-ed15-430f-ae00-c5138ef08248"
      },
      "execution_count": 2,
      "outputs": [
        {
          "output_type": "execute_result",
          "data": {
            "text/plain": [
              "tensor(7)"
            ]
          },
          "metadata": {},
          "execution_count": 2
        }
      ]
    },
    {
      "cell_type": "code",
      "source": [
        "# checking the rank(dimension) of a tensor as it is a scalar value that is 7 so its rank is 0\n",
        "scalar.ndim"
      ],
      "metadata": {
        "colab": {
          "base_uri": "https://localhost:8080/"
        },
        "id": "gsKeaL8CpT6o",
        "outputId": "996cb344-d548-47b2-c310-0ef9479acf9a"
      },
      "execution_count": 4,
      "outputs": [
        {
          "output_type": "execute_result",
          "data": {
            "text/plain": [
              "0"
            ]
          },
          "metadata": {},
          "execution_count": 4
        }
      ]
    },
    {
      "cell_type": "code",
      "source": [
        "# to convert back to a scalar quantity rather than a tensor\n",
        "scalar.item()"
      ],
      "metadata": {
        "colab": {
          "base_uri": "https://localhost:8080/"
        },
        "id": "nISYkiP2pndh",
        "outputId": "068b0afa-50fa-4e18-d749-a8352ac46a66"
      },
      "execution_count": 6,
      "outputs": [
        {
          "output_type": "execute_result",
          "data": {
            "text/plain": [
              "7"
            ]
          },
          "metadata": {},
          "execution_count": 6
        }
      ]
    },
    {
      "cell_type": "code",
      "source": [
        " # vector\n",
        " vector = torch.tensor([7,7])\n",
        " vector"
      ],
      "metadata": {
        "colab": {
          "base_uri": "https://localhost:8080/"
        },
        "id": "b28VLmU1qQ2b",
        "outputId": "b807477e-a94a-4e10-b349-f6076cce217f"
      },
      "execution_count": 7,
      "outputs": [
        {
          "output_type": "execute_result",
          "data": {
            "text/plain": [
              "tensor([7, 7])"
            ]
          },
          "metadata": {},
          "execution_count": 7
        }
      ]
    },
    {
      "cell_type": "code",
      "source": [
        "# as it can be described using two components one for x and one for y so its rank is 1\n",
        "vector.ndim"
      ],
      "metadata": {
        "colab": {
          "base_uri": "https://localhost:8080/"
        },
        "id": "ez2PEqMtqe3-",
        "outputId": "1532e875-d536-46fa-8103-b3cd3e2f3682"
      },
      "execution_count": 8,
      "outputs": [
        {
          "output_type": "execute_result",
          "data": {
            "text/plain": [
              "1"
            ]
          },
          "metadata": {},
          "execution_count": 8
        }
      ]
    },
    {
      "cell_type": "code",
      "source": [
        "vector.shape"
      ],
      "metadata": {
        "colab": {
          "base_uri": "https://localhost:8080/"
        },
        "id": "1KVvdlesqhOx",
        "outputId": "d622b123-824d-42db-d7ca-6ae0b47af109"
      },
      "execution_count": 9,
      "outputs": [
        {
          "output_type": "execute_result",
          "data": {
            "text/plain": [
              "torch.Size([2])"
            ]
          },
          "metadata": {},
          "execution_count": 9
        }
      ]
    },
    {
      "cell_type": "code",
      "source": [
        "# matrix dimension is 2\n",
        "matrix = torch.tensor([[1,2],[3,4]])\n",
        "matrix\n",
        "# Axx,Axy\n",
        "# Ayx,Ayy four components and two base vectors required so the order or rank is 2"
      ],
      "metadata": {
        "colab": {
          "base_uri": "https://localhost:8080/"
        },
        "id": "aqRNQoAGrDKl",
        "outputId": "5dfd8ea7-0bda-4848-fd20-4d7c97077351"
      },
      "execution_count": 15,
      "outputs": [
        {
          "output_type": "execute_result",
          "data": {
            "text/plain": [
              "tensor([[1, 2],\n",
              "        [3, 4]])"
            ]
          },
          "metadata": {},
          "execution_count": 15
        }
      ]
    },
    {
      "cell_type": "code",
      "source": [
        "matrix.ndim"
      ],
      "metadata": {
        "colab": {
          "base_uri": "https://localhost:8080/"
        },
        "id": "0i-VENzGrSTN",
        "outputId": "bc9f668f-4aa5-4300-c2bc-822510144248"
      },
      "execution_count": 11,
      "outputs": [
        {
          "output_type": "execute_result",
          "data": {
            "text/plain": [
              "2"
            ]
          },
          "metadata": {},
          "execution_count": 11
        }
      ]
    },
    {
      "cell_type": "code",
      "source": [
        "matrix[1]"
      ],
      "metadata": {
        "colab": {
          "base_uri": "https://localhost:8080/"
        },
        "id": "9YB3S2vBras_",
        "outputId": "25d7fd64-b709-4d74-da5f-28a1120b1c98"
      },
      "execution_count": 13,
      "outputs": [
        {
          "output_type": "execute_result",
          "data": {
            "text/plain": [
              "tensor([3, 4])"
            ]
          },
          "metadata": {},
          "execution_count": 13
        }
      ]
    },
    {
      "cell_type": "code",
      "source": [
        "matrix.shape"
      ],
      "metadata": {
        "colab": {
          "base_uri": "https://localhost:8080/"
        },
        "id": "CxeCoYAWrnoA",
        "outputId": "e4e4a823-3495-42a9-d7ae-7c110277ec32"
      },
      "execution_count": 14,
      "outputs": [
        {
          "output_type": "execute_result",
          "data": {
            "text/plain": [
              "torch.Size([2, 2])"
            ]
          },
          "metadata": {},
          "execution_count": 14
        }
      ]
    },
    {
      "cell_type": "code",
      "source": [
        " # Tensor\n",
        " TENSOR = torch.tensor([[[1,2,3],[4,5,6],[7,8,9]]])\n",
        " TENSOR"
      ],
      "metadata": {
        "colab": {
          "base_uri": "https://localhost:8080/"
        },
        "id": "M5klVu8Vrv2L",
        "outputId": "62ebc902-fa5d-476a-e8fd-c3f7d29f6e1b"
      },
      "execution_count": 17,
      "outputs": [
        {
          "output_type": "execute_result",
          "data": {
            "text/plain": [
              "tensor([[[1, 2, 3],\n",
              "         [4, 5, 6],\n",
              "         [7, 8, 9]]])"
            ]
          },
          "metadata": {},
          "execution_count": 17
        }
      ]
    },
    {
      "cell_type": "code",
      "source": [
        "TENSOR.ndim"
      ],
      "metadata": {
        "colab": {
          "base_uri": "https://localhost:8080/"
        },
        "id": "J2ImioGEsORC",
        "outputId": "af039310-7362-4551-b607-7e42cb3a5051"
      },
      "execution_count": 18,
      "outputs": [
        {
          "output_type": "execute_result",
          "data": {
            "text/plain": [
              "3"
            ]
          },
          "metadata": {},
          "execution_count": 18
        }
      ]
    },
    {
      "cell_type": "code",
      "source": [
        "TENSOR.shape\n",
        "#  The outer bracket shows the 1 in here that has everything rapped in it\n",
        "# accessing it will print everything"
      ],
      "metadata": {
        "colab": {
          "base_uri": "https://localhost:8080/"
        },
        "id": "adDResKxsg7g",
        "outputId": "874743cb-0aee-4939-eb96-d4292256fb4e"
      },
      "execution_count": 19,
      "outputs": [
        {
          "output_type": "execute_result",
          "data": {
            "text/plain": [
              "torch.Size([1, 3, 3])"
            ]
          },
          "metadata": {},
          "execution_count": 19
        }
      ]
    },
    {
      "cell_type": "code",
      "source": [
        "TENSOR[0]"
      ],
      "metadata": {
        "colab": {
          "base_uri": "https://localhost:8080/"
        },
        "id": "MISD4bIVsi_o",
        "outputId": "c8af4b0a-1a12-47c6-83bd-d622eeb8d69f"
      },
      "execution_count": 20,
      "outputs": [
        {
          "output_type": "execute_result",
          "data": {
            "text/plain": [
              "tensor([[1, 2, 3],\n",
              "        [4, 5, 6],\n",
              "        [7, 8, 9]])"
            ]
          },
          "metadata": {},
          "execution_count": 20
        }
      ]
    },
    {
      "cell_type": "code",
      "source": [
        "# and then printing the next will give all the 2 base vector and 9 components\n",
        "TENSOR[0,1,0]"
      ],
      "metadata": {
        "colab": {
          "base_uri": "https://localhost:8080/"
        },
        "id": "VlbI4VP-tCzH",
        "outputId": "1e0d363b-ca2a-4c44-9f20-76e0d7e3ca49"
      },
      "execution_count": 24,
      "outputs": [
        {
          "output_type": "execute_result",
          "data": {
            "text/plain": [
              "tensor(4)"
            ]
          },
          "metadata": {},
          "execution_count": 24
        }
      ]
    },
    {
      "cell_type": "markdown",
      "source": [
        "1. 0-dimensional tensor: A single number (scalar), e.g., torch.tensor(5)\n",
        "2. 1-dimensional tensor: A vector, e.g., torch.tensor([1, 2, 3])\n",
        "3. 2-dimensional tensor: A matrix, e.g., torch.tensor([[1, 2], [3, 4]])\n",
        "4. N-dimensional tensor: An array with more than 2 dimensions.\n",
        "\n",
        "When you define a tensor like torch.tensor([[[1, 2, 3], [4, 5, 6], [7, 8, 9]]]), it is a 3-dimensional tensor with a shape of (1, 3, 3). Here's why:\n",
        "\n",
        "1. The outermost list [...] contains 1 element, which is itself a 2-dimensional matrix [[1, 2, 3], [4, 5, 6], [7, 8, 9]].\n",
        "2. This 2-dimensional matrix is made up of 3 rows, each containing 3 elements.\n",
        "To access each element, you need 3 indices: [0, x, y].\n",
        "3. The first index selects the \"slice\" (there is only one slice here, so it's always 0), the second index selects the row, and the third index selects the column within that row.\n",
        "\n",
        "In simpler terms, the number of dimensions tells you how many levels of nested lists you have:\n",
        "\n",
        "1. [1, 2, 3] is 1-dimensional.\n",
        "2. [[1, 2], [3, 4]] is 2-dimensional.\n",
        "3. [[[1, 2], [3, 4]], [[5, 6], [7, 8]]] is 3-dimensional."
      ],
      "metadata": {
        "id": "i_o0W29RuRsB"
      }
    },
    {
      "cell_type": "code",
      "source": [
        "!apt-get install git"
      ],
      "metadata": {
        "colab": {
          "base_uri": "https://localhost:8080/"
        },
        "id": "VBQqGukMuSgj",
        "outputId": "869339e8-a7f7-41de-a687-21b36c8f9a83"
      },
      "execution_count": 25,
      "outputs": [
        {
          "output_type": "stream",
          "name": "stdout",
          "text": [
            "Reading package lists... Done\n",
            "Building dependency tree... Done\n",
            "Reading state information... Done\n",
            "git is already the newest version (1:2.34.1-1ubuntu1.11).\n",
            "0 upgraded, 0 newly installed, 0 to remove and 45 not upgraded.\n"
          ]
        }
      ]
    },
    {
      "cell_type": "code",
      "source": [
        "!git clone https://github.com/arooba-zaman1211/Deep_Learning_Coding_Lessons.git"
      ],
      "metadata": {
        "colab": {
          "base_uri": "https://localhost:8080/"
        },
        "id": "_CCbPshnzJZ1",
        "outputId": "6abad595-7b34-4daf-d875-2b570388895a"
      },
      "execution_count": 26,
      "outputs": [
        {
          "output_type": "stream",
          "name": "stdout",
          "text": [
            "Cloning into 'Deep_Learning_Coding_Lessons'...\n",
            "warning: You appear to have cloned an empty repository.\n"
          ]
        }
      ]
    },
    {
      "cell_type": "code",
      "source": [],
      "metadata": {
        "id": "aNo3q58CzSKx"
      },
      "execution_count": null,
      "outputs": []
    }
  ]
}