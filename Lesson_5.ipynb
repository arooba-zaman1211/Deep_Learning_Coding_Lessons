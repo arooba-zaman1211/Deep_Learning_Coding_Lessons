{
  "nbformat": 4,
  "nbformat_minor": 0,
  "metadata": {
    "colab": {
      "provenance": [],
      "authorship_tag": "ABX9TyNGnr6iCNKyM38M0cuCp6ks",
      "include_colab_link": true
    },
    "kernelspec": {
      "name": "python3",
      "display_name": "Python 3"
    },
    "language_info": {
      "name": "python"
    }
  },
  "cells": [
    {
      "cell_type": "markdown",
      "metadata": {
        "id": "view-in-github",
        "colab_type": "text"
      },
      "source": [
        "<a href=\"https://colab.research.google.com/github/arooba-zaman1211/Deep_Learning_using_Pytorch/blob/main/Lesson_5.ipynb\" target=\"_parent\"><img src=\"https://colab.research.google.com/assets/colab-badge.svg\" alt=\"Open In Colab\"/></a>"
      ]
    },
    {
      "cell_type": "code",
      "execution_count": 1,
      "metadata": {
        "id": "aVKxpATARwdf"
      },
      "outputs": [],
      "source": [
        "import torch"
      ]
    },
    {
      "cell_type": "markdown",
      "source": [
        "### Tensor Aggregations (min, max, mean, sum etc)\n",
        "\n",
        "These are called tensor aggregations cause result in a single value from a tensor.<br>\n",
        "Mean can not be calculated of tensor of dtype other than float"
      ],
      "metadata": {
        "id": "u6RCWyIxYEOI"
      }
    },
    {
      "cell_type": "code",
      "source": [
        "# range of numbers created\n",
        "x = torch.arange(0, 100, 10)\n",
        "print(x)"
      ],
      "metadata": {
        "colab": {
          "base_uri": "https://localhost:8080/"
        },
        "id": "DbZN8PLqRzsd",
        "outputId": "62826040-a701-4549-cd52-ff72423ebc95"
      },
      "execution_count": 2,
      "outputs": [
        {
          "output_type": "stream",
          "name": "stdout",
          "text": [
            "tensor([ 0, 10, 20, 30, 40, 50, 60, 70, 80, 90])\n"
          ]
        }
      ]
    },
    {
      "cell_type": "code",
      "source": [
        "# minimum of tensor\n",
        "x.min()"
      ],
      "metadata": {
        "colab": {
          "base_uri": "https://localhost:8080/"
        },
        "id": "DIk8uaWGZWX4",
        "outputId": "f7c18739-e83a-4cc4-b74f-3f73276a25d0"
      },
      "execution_count": 3,
      "outputs": [
        {
          "output_type": "execute_result",
          "data": {
            "text/plain": [
              "tensor(0)"
            ]
          },
          "metadata": {},
          "execution_count": 3
        }
      ]
    },
    {
      "cell_type": "code",
      "source": [
        "# max of tensor\n",
        "x.max()"
      ],
      "metadata": {
        "colab": {
          "base_uri": "https://localhost:8080/"
        },
        "id": "-KUm6K6DZcU9",
        "outputId": "ce4cde4c-596c-4543-9b8b-8139f65eb603"
      },
      "execution_count": 4,
      "outputs": [
        {
          "output_type": "execute_result",
          "data": {
            "text/plain": [
              "tensor(90)"
            ]
          },
          "metadata": {},
          "execution_count": 4
        }
      ]
    },
    {
      "cell_type": "code",
      "source": [
        "# changing the type from int to float\n",
        "tensor = torch.tensor(x, dtype=torch.float32)\n",
        "tensor.dtype"
      ],
      "metadata": {
        "colab": {
          "base_uri": "https://localhost:8080/"
        },
        "id": "F4ResBsbZdfE",
        "outputId": "2c74130a-6f49-47ed-d9a6-495abb245302"
      },
      "execution_count": 7,
      "outputs": [
        {
          "output_type": "stream",
          "name": "stderr",
          "text": [
            "<ipython-input-7-bf88234dc51c>:1: UserWarning: To copy construct from a tensor, it is recommended to use sourceTensor.clone().detach() or sourceTensor.clone().detach().requires_grad_(True), rather than torch.tensor(sourceTensor).\n",
            "  tensor = torch.tensor(x, dtype=torch.float32)\n"
          ]
        },
        {
          "output_type": "execute_result",
          "data": {
            "text/plain": [
              "torch.float32"
            ]
          },
          "metadata": {},
          "execution_count": 7
        }
      ]
    },
    {
      "cell_type": "code",
      "source": [
        "# the mean is not found until the dtype of tensor is float\n",
        "tensor.mean() , tensor.type(torch.float32).mean()"
      ],
      "metadata": {
        "colab": {
          "base_uri": "https://localhost:8080/"
        },
        "id": "VsjqXTcpZ_qu",
        "outputId": "7f7c8c22-a6c1-4c3e-d05d-ee74af84e277"
      },
      "execution_count": 10,
      "outputs": [
        {
          "output_type": "execute_result",
          "data": {
            "text/plain": [
              "(tensor(45.), tensor(45.))"
            ]
          },
          "metadata": {},
          "execution_count": 10
        }
      ]
    },
    {
      "cell_type": "code",
      "source": [
        "tensor.sum()"
      ],
      "metadata": {
        "colab": {
          "base_uri": "https://localhost:8080/"
        },
        "id": "jm5At8XPa693",
        "outputId": "e1dbf55c-d7a2-463d-8a1e-c50d9120d2c3"
      },
      "execution_count": 14,
      "outputs": [
        {
          "output_type": "execute_result",
          "data": {
            "text/plain": [
              "tensor(450.)"
            ]
          },
          "metadata": {},
          "execution_count": 14
        }
      ]
    },
    {
      "cell_type": "markdown",
      "source": [
        "### Get the index of min and max values in a tensor"
      ],
      "metadata": {
        "id": "wyVsCkKEddtL"
      }
    },
    {
      "cell_type": "code",
      "source": [
        "tensor.argmin() , tensor.argmax()"
      ],
      "metadata": {
        "colab": {
          "base_uri": "https://localhost:8080/"
        },
        "id": "P5zgWT54dRRu",
        "outputId": "aba751ac-02d1-4f79-8cfa-64d6011c0e20"
      },
      "execution_count": 16,
      "outputs": [
        {
          "output_type": "execute_result",
          "data": {
            "text/plain": [
              "(tensor(0), tensor(9))"
            ]
          },
          "metadata": {},
          "execution_count": 16
        }
      ]
    },
    {
      "cell_type": "code",
      "source": [
        "tensor[0] = 5\n",
        "tensor"
      ],
      "metadata": {
        "colab": {
          "base_uri": "https://localhost:8080/"
        },
        "id": "m2QR6mPodbR5",
        "outputId": "63b9ee80-a32a-49d0-bf36-4fcf3b5c2d53"
      },
      "execution_count": 17,
      "outputs": [
        {
          "output_type": "execute_result",
          "data": {
            "text/plain": [
              "tensor([ 5., 10., 20., 30., 40., 50., 60., 70., 80., 90.])"
            ]
          },
          "metadata": {},
          "execution_count": 17
        }
      ]
    },
    {
      "cell_type": "code",
      "source": [
        "# changing the value of a specific index number\n",
        "tensor[5] = 0\n",
        "tensor"
      ],
      "metadata": {
        "colab": {
          "base_uri": "https://localhost:8080/"
        },
        "id": "ZQ4plPucdxYb",
        "outputId": "698abd0f-7715-4625-c787-3ab9ccd5cde6"
      },
      "execution_count": 18,
      "outputs": [
        {
          "output_type": "execute_result",
          "data": {
            "text/plain": [
              "tensor([ 5., 10., 20., 30., 40.,  0., 60., 70., 80., 90.])"
            ]
          },
          "metadata": {},
          "execution_count": 18
        }
      ]
    },
    {
      "cell_type": "code",
      "source": [
        "tensor.argmin()"
      ],
      "metadata": {
        "colab": {
          "base_uri": "https://localhost:8080/"
        },
        "id": "q5nvsoXXd1uD",
        "outputId": "ed211098-be8a-4d82-bc55-c7b71bc1d747"
      },
      "execution_count": 19,
      "outputs": [
        {
          "output_type": "execute_result",
          "data": {
            "text/plain": [
              "tensor(5)"
            ]
          },
          "metadata": {},
          "execution_count": 19
        }
      ]
    },
    {
      "cell_type": "markdown",
      "source": [
        "### Reshaping, stacking, squeezing and unsqueezing\n",
        "\n",
        "1. Reshaping - reshaping a tensor to a specific shape\n",
        "2. View - Return a view of input tensor\n",
        "3. Stacking - stack tensors one over the other (vstack) or side by side (hstack)\n",
        "4. Squeezing - remove `1` dimensions from the tensor\n",
        "5. Unsqueezing - adds `1` dimensions to the tensor\n",
        "6. Permute - return a view of input with dimensions permuted (swapped) in a certain way"
      ],
      "metadata": {
        "id": "uxTZF4N_gc25"
      }
    },
    {
      "cell_type": "code",
      "source": [
        "x"
      ],
      "metadata": {
        "colab": {
          "base_uri": "https://localhost:8080/"
        },
        "id": "6zN5p17nd4su",
        "outputId": "c7a3d67e-4097-4be3-a344-2e1eb8d07501"
      },
      "execution_count": 21,
      "outputs": [
        {
          "output_type": "execute_result",
          "data": {
            "text/plain": [
              "tensor([ 0, 10, 20, 30, 40, 50, 60, 70, 80, 90])"
            ]
          },
          "metadata": {},
          "execution_count": 21
        }
      ]
    },
    {
      "cell_type": "code",
      "source": [
        "x.reshape(1, 5, 2)"
      ],
      "metadata": {
        "colab": {
          "base_uri": "https://localhost:8080/"
        },
        "id": "CmZimZTUjsWu",
        "outputId": "5834912c-64a2-4a11-a613-f9b2ad311b67"
      },
      "execution_count": 27,
      "outputs": [
        {
          "output_type": "execute_result",
          "data": {
            "text/plain": [
              "tensor([[[ 0, 10],\n",
              "         [20, 30],\n",
              "         [40, 50],\n",
              "         [60, 70],\n",
              "         [80, 90]]])"
            ]
          },
          "metadata": {},
          "execution_count": 27
        }
      ]
    },
    {
      "cell_type": "code",
      "source": [
        "# change the view of x\n",
        "# z shares the memory with x and thus its just a different view of x so changing z changes x and same way round\n",
        "z = x.view(1, 10)\n",
        "z"
      ],
      "metadata": {
        "colab": {
          "base_uri": "https://localhost:8080/"
        },
        "id": "9hmR5W0tjyiw",
        "outputId": "ec62f199-63f3-4378-c213-b0d832dab8a9"
      },
      "execution_count": 28,
      "outputs": [
        {
          "output_type": "execute_result",
          "data": {
            "text/plain": [
              "tensor([[ 0, 10, 20, 30, 40, 50, 60, 70, 80, 90]])"
            ]
          },
          "metadata": {},
          "execution_count": 28
        }
      ]
    },
    {
      "cell_type": "code",
      "source": [
        "x"
      ],
      "metadata": {
        "colab": {
          "base_uri": "https://localhost:8080/"
        },
        "id": "bpnv09eUlDFE",
        "outputId": "d0ed76df-044c-4363-fdf8-68c7d930590b"
      },
      "execution_count": 29,
      "outputs": [
        {
          "output_type": "execute_result",
          "data": {
            "text/plain": [
              "tensor([ 0, 10, 20, 30, 40, 50, 60, 70, 80, 90])"
            ]
          },
          "metadata": {},
          "execution_count": 29
        }
      ]
    },
    {
      "cell_type": "code",
      "source": [
        "x = x.reshape(1,5,2)"
      ],
      "metadata": {
        "id": "BbaSKG-VnmR9"
      },
      "execution_count": 30,
      "outputs": []
    },
    {
      "cell_type": "code",
      "source": [
        "z"
      ],
      "metadata": {
        "colab": {
          "base_uri": "https://localhost:8080/"
        },
        "id": "cVnUmS8fnyuz",
        "outputId": "4bc0c1da-d12e-40ed-d9a1-e33c487cd94c"
      },
      "execution_count": 31,
      "outputs": [
        {
          "output_type": "execute_result",
          "data": {
            "text/plain": [
              "tensor([[ 0, 10, 20, 30, 40, 50, 60, 70, 80, 90]])"
            ]
          },
          "metadata": {},
          "execution_count": 31
        }
      ]
    },
    {
      "cell_type": "code",
      "source": [
        "# stacking of tensors , dimension 0 is giving one tensor stacked over the other\n",
        "x_stacked = torch.stack([x, x, x, x], dim=0)\n",
        "x_stacked"
      ],
      "metadata": {
        "colab": {
          "base_uri": "https://localhost:8080/"
        },
        "id": "5K-f9PBAnzjG",
        "outputId": "540bbfd8-a5cf-491b-c68e-3a38c0e60a81"
      },
      "execution_count": 33,
      "outputs": [
        {
          "output_type": "execute_result",
          "data": {
            "text/plain": [
              "tensor([[[[ 0, 10],\n",
              "          [20, 30],\n",
              "          [40, 50],\n",
              "          [60, 70],\n",
              "          [80, 90]]],\n",
              "\n",
              "\n",
              "        [[[ 0, 10],\n",
              "          [20, 30],\n",
              "          [40, 50],\n",
              "          [60, 70],\n",
              "          [80, 90]]],\n",
              "\n",
              "\n",
              "        [[[ 0, 10],\n",
              "          [20, 30],\n",
              "          [40, 50],\n",
              "          [60, 70],\n",
              "          [80, 90]]],\n",
              "\n",
              "\n",
              "        [[[ 0, 10],\n",
              "          [20, 30],\n",
              "          [40, 50],\n",
              "          [60, 70],\n",
              "          [80, 90]]]])"
            ]
          },
          "metadata": {},
          "execution_count": 33
        }
      ]
    },
    {
      "cell_type": "code",
      "source": [
        "x = x.reshape([1, 10])"
      ],
      "metadata": {
        "id": "GPtHWYpPoMX7"
      },
      "execution_count": 34,
      "outputs": []
    },
    {
      "cell_type": "code",
      "source": [
        "x_stacked = torch.stack([x, x, x, x], dim=0)\n",
        "x_stacked"
      ],
      "metadata": {
        "colab": {
          "base_uri": "https://localhost:8080/"
        },
        "id": "wyGVWGSIoijt",
        "outputId": "ab41c68a-6c5c-43fc-b94b-2343ebd0c03e"
      },
      "execution_count": 35,
      "outputs": [
        {
          "output_type": "execute_result",
          "data": {
            "text/plain": [
              "tensor([[[ 0, 10, 20, 30, 40, 50, 60, 70, 80, 90]],\n",
              "\n",
              "        [[ 0, 10, 20, 30, 40, 50, 60, 70, 80, 90]],\n",
              "\n",
              "        [[ 0, 10, 20, 30, 40, 50, 60, 70, 80, 90]],\n",
              "\n",
              "        [[ 0, 10, 20, 30, 40, 50, 60, 70, 80, 90]]])"
            ]
          },
          "metadata": {},
          "execution_count": 35
        }
      ]
    },
    {
      "cell_type": "code",
      "source": [
        "# Stacking Along Dimension 2: This means that a new dimension will be created at index 2, and the tensors will be stacked along this new dimension.\n",
        "x_stacked = torch.stack([x, x, x, x], dim=2)\n",
        "x_stacked"
      ],
      "metadata": {
        "colab": {
          "base_uri": "https://localhost:8080/"
        },
        "id": "U4fAuKXRom9g",
        "outputId": "64e55e42-4556-400c-899f-11ca2b921b68"
      },
      "execution_count": 38,
      "outputs": [
        {
          "output_type": "execute_result",
          "data": {
            "text/plain": [
              "tensor([[[ 0,  0,  0,  0],\n",
              "         [10, 10, 10, 10],\n",
              "         [20, 20, 20, 20],\n",
              "         [30, 30, 30, 30],\n",
              "         [40, 40, 40, 40],\n",
              "         [50, 50, 50, 50],\n",
              "         [60, 60, 60, 60],\n",
              "         [70, 70, 70, 70],\n",
              "         [80, 80, 80, 80],\n",
              "         [90, 90, 90, 90]]])"
            ]
          },
          "metadata": {},
          "execution_count": 38
        }
      ]
    },
    {
      "cell_type": "code",
      "source": [
        "x, x.shape"
      ],
      "metadata": {
        "colab": {
          "base_uri": "https://localhost:8080/"
        },
        "id": "-C-B4IbGqfud",
        "outputId": "6e151730-b7e0-4f43-9057-e7c89ab742c2"
      },
      "execution_count": 52,
      "outputs": [
        {
          "output_type": "execute_result",
          "data": {
            "text/plain": [
              "(tensor([[ 0, 10, 20, 30, 40, 50, 60, 70, 80, 90]]), torch.Size([1, 10]))"
            ]
          },
          "metadata": {},
          "execution_count": 52
        }
      ]
    },
    {
      "cell_type": "code",
      "source": [
        "# removes all single dimensions\n",
        "x.squeeze(),x.squeeze().shape"
      ],
      "metadata": {
        "colab": {
          "base_uri": "https://localhost:8080/"
        },
        "id": "8Gb3eFAPopjQ",
        "outputId": "418f785e-3d58-4702-eba6-8beeb8745da1"
      },
      "execution_count": 54,
      "outputs": [
        {
          "output_type": "execute_result",
          "data": {
            "text/plain": [
              "(tensor([ 0, 10, 20, 30, 40, 50, 60, 70, 80, 90]), torch.Size([10]))"
            ]
          },
          "metadata": {},
          "execution_count": 54
        }
      ]
    },
    {
      "cell_type": "code",
      "source": [
        "# adds in single dimensions\n",
        "x.unsqueeze, x.unsqueeze(dim  = 0).shape"
      ],
      "metadata": {
        "colab": {
          "base_uri": "https://localhost:8080/"
        },
        "id": "k-WXOYZ5p4MH",
        "outputId": "6ae879c0-088f-4526-c256-34bc6c5ca0c7"
      },
      "execution_count": 55,
      "outputs": [
        {
          "output_type": "execute_result",
          "data": {
            "text/plain": [
              "(<function Tensor.unsqueeze>, torch.Size([1, 1, 10]))"
            ]
          },
          "metadata": {},
          "execution_count": 55
        }
      ]
    },
    {
      "cell_type": "code",
      "source": [
        "# permute rearrange the dimensions in a view of original tensor and as view and tensor share the same memory its gonna have an overall impact\n",
        "x_permuted = torch.permute(x, dims = (1, 0))\n",
        "x_permuted , x_permuted.shape\n",
        "# it changed the order of dimensions that was originally [1, 10] is now [10, 1]"
      ],
      "metadata": {
        "colab": {
          "base_uri": "https://localhost:8080/"
        },
        "id": "NuiI5ntvp6RK",
        "outputId": "656663ac-d189-4033-dbc5-e822091d7473"
      },
      "execution_count": 60,
      "outputs": [
        {
          "output_type": "execute_result",
          "data": {
            "text/plain": [
              "(tensor([[ 0],\n",
              "         [10],\n",
              "         [20],\n",
              "         [30],\n",
              "         [40],\n",
              "         [50],\n",
              "         [60],\n",
              "         [70],\n",
              "         [80],\n",
              "         [90]]),\n",
              " torch.Size([10, 1]))"
            ]
          },
          "metadata": {},
          "execution_count": 60
        }
      ]
    },
    {
      "cell_type": "code",
      "source": [
        "x_permuted = x.permute(1, 0)\n",
        "x_permuted.shape , x.shape"
      ],
      "metadata": {
        "colab": {
          "base_uri": "https://localhost:8080/"
        },
        "id": "7tgxcsMZrtLM",
        "outputId": "f373faa6-f087-4a4a-d238-fae56ca28745"
      },
      "execution_count": 62,
      "outputs": [
        {
          "output_type": "execute_result",
          "data": {
            "text/plain": [
              "(torch.Size([10, 1]), torch.Size([1, 10]))"
            ]
          },
          "metadata": {},
          "execution_count": 62
        }
      ]
    },
    {
      "cell_type": "code",
      "source": [
        "x[0,0] = 10\n",
        "x"
      ],
      "metadata": {
        "colab": {
          "base_uri": "https://localhost:8080/"
        },
        "id": "Cv4WG1aUruYE",
        "outputId": "b069952b-64fd-4535-9d57-60d5cb658f2b"
      },
      "execution_count": 64,
      "outputs": [
        {
          "output_type": "execute_result",
          "data": {
            "text/plain": [
              "tensor([[10, 10, 20, 30, 40, 50, 60, 70, 80, 90]])"
            ]
          },
          "metadata": {},
          "execution_count": 64
        }
      ]
    },
    {
      "cell_type": "code",
      "source": [
        "x_permuted"
      ],
      "metadata": {
        "colab": {
          "base_uri": "https://localhost:8080/"
        },
        "id": "jYZ-eHvLrz2s",
        "outputId": "7f301008-fd98-4aaf-a767-1fe2aec86fb5"
      },
      "execution_count": 65,
      "outputs": [
        {
          "output_type": "execute_result",
          "data": {
            "text/plain": [
              "tensor([[10],\n",
              "        [10],\n",
              "        [20],\n",
              "        [30],\n",
              "        [40],\n",
              "        [50],\n",
              "        [60],\n",
              "        [70],\n",
              "        [80],\n",
              "        [90]])"
            ]
          },
          "metadata": {},
          "execution_count": 65
        }
      ]
    },
    {
      "cell_type": "markdown",
      "source": [
        "### Indexing (Selecting elements from tensor)"
      ],
      "metadata": {
        "id": "AHgWt4rQwERO"
      }
    },
    {
      "cell_type": "code",
      "source": [
        "import torch\n",
        "\n",
        "x = torch.arange(1, 10).reshape(1, 3, 3)\n",
        "x, x.shape"
      ],
      "metadata": {
        "colab": {
          "base_uri": "https://localhost:8080/"
        },
        "id": "CMrgZIs2s4Ky",
        "outputId": "65bfea17-cdf2-4fd4-9366-33c98e620ad9"
      },
      "execution_count": 66,
      "outputs": [
        {
          "output_type": "execute_result",
          "data": {
            "text/plain": [
              "(tensor([[[1, 2, 3],\n",
              "          [4, 5, 6],\n",
              "          [7, 8, 9]]]),\n",
              " torch.Size([1, 3, 3]))"
            ]
          },
          "metadata": {},
          "execution_count": 66
        }
      ]
    },
    {
      "cell_type": "code",
      "source": [
        "x[0, 1, 2]"
      ],
      "metadata": {
        "colab": {
          "base_uri": "https://localhost:8080/"
        },
        "id": "lCSGN57VwNMP",
        "outputId": "75c0c468-9d9a-45e8-bfdc-8c32bab30691"
      },
      "execution_count": 72,
      "outputs": [
        {
          "output_type": "execute_result",
          "data": {
            "text/plain": [
              "tensor(6)"
            ]
          },
          "metadata": {},
          "execution_count": 72
        }
      ]
    },
    {
      "cell_type": "code",
      "source": [
        "x[0][0]"
      ],
      "metadata": {
        "colab": {
          "base_uri": "https://localhost:8080/"
        },
        "id": "HBgsC5TqwQOL",
        "outputId": "85d0453a-94f5-4fb1-da04-228562629ddb"
      },
      "execution_count": 73,
      "outputs": [
        {
          "output_type": "execute_result",
          "data": {
            "text/plain": [
              "tensor([1, 2, 3])"
            ]
          },
          "metadata": {},
          "execution_count": 73
        }
      ]
    },
    {
      "cell_type": "code",
      "source": [
        "x[0][0][2]"
      ],
      "metadata": {
        "colab": {
          "base_uri": "https://localhost:8080/"
        },
        "id": "Mug_Eqo5wpGA",
        "outputId": "b18dd5f3-a4dd-494e-fc67-754603d0f74f"
      },
      "execution_count": 74,
      "outputs": [
        {
          "output_type": "execute_result",
          "data": {
            "text/plain": [
              "tensor(3)"
            ]
          },
          "metadata": {},
          "execution_count": 74
        }
      ]
    },
    {
      "cell_type": "code",
      "source": [
        "# we can use \":\" to all of a target dimension\n",
        "x[0,:,2]\n",
        "# this returns the 2nd index values of all the three inner dimensions"
      ],
      "metadata": {
        "colab": {
          "base_uri": "https://localhost:8080/"
        },
        "id": "uX5oWxJlwrDm",
        "outputId": "08a0410f-87c0-45dc-de82-15f02b202e64"
      },
      "execution_count": 76,
      "outputs": [
        {
          "output_type": "execute_result",
          "data": {
            "text/plain": [
              "tensor([3, 6, 9])"
            ]
          },
          "metadata": {},
          "execution_count": 76
        }
      ]
    },
    {
      "cell_type": "code",
      "source": [
        "x[:,:,1]"
      ],
      "metadata": {
        "colab": {
          "base_uri": "https://localhost:8080/"
        },
        "id": "ePD3Oh5ZxAnR",
        "outputId": "02e51fc2-85a0-4bbd-f354-15394799454c"
      },
      "execution_count": 77,
      "outputs": [
        {
          "output_type": "execute_result",
          "data": {
            "text/plain": [
              "tensor([[2, 5, 8]])"
            ]
          },
          "metadata": {},
          "execution_count": 77
        }
      ]
    },
    {
      "cell_type": "code",
      "source": [
        "x[0,0,:]"
      ],
      "metadata": {
        "colab": {
          "base_uri": "https://localhost:8080/"
        },
        "id": "c9gUC7hpxmiI",
        "outputId": "47693de7-abc0-478a-920f-1f111960f108"
      },
      "execution_count": 78,
      "outputs": [
        {
          "output_type": "execute_result",
          "data": {
            "text/plain": [
              "tensor([1, 2, 3])"
            ]
          },
          "metadata": {},
          "execution_count": 78
        }
      ]
    },
    {
      "cell_type": "code",
      "source": [
        "x[0, 2, 2]"
      ],
      "metadata": {
        "colab": {
          "base_uri": "https://localhost:8080/"
        },
        "id": "-ag7hPWjx8_o",
        "outputId": "ef9813d0-000c-4d91-a0c1-53c4e05884bc"
      },
      "execution_count": 79,
      "outputs": [
        {
          "output_type": "execute_result",
          "data": {
            "text/plain": [
              "tensor(9)"
            ]
          },
          "metadata": {},
          "execution_count": 79
        }
      ]
    },
    {
      "cell_type": "code",
      "source": [],
      "metadata": {
        "id": "CJyNH1GKyM9I"
      },
      "execution_count": null,
      "outputs": []
    }
  ]
}