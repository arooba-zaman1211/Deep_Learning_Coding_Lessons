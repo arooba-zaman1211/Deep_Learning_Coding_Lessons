{
  "nbformat": 4,
  "nbformat_minor": 0,
  "metadata": {
    "colab": {
      "provenance": [],
      "authorship_tag": "ABX9TyNxZoTbEiNqXqSGMA0+TLc2",
      "include_colab_link": true
    },
    "kernelspec": {
      "name": "python3",
      "display_name": "Python 3"
    },
    "language_info": {
      "name": "python"
    }
  },
  "cells": [
    {
      "cell_type": "markdown",
      "metadata": {
        "id": "view-in-github",
        "colab_type": "text"
      },
      "source": [
        "<a href=\"https://colab.research.google.com/github/arooba-zaman1211/Deep_Learning_using_Pytorch/blob/main/Lesson_3.ipynb\" target=\"_parent\"><img src=\"https://colab.research.google.com/assets/colab-badge.svg\" alt=\"Open In Colab\"/></a>"
      ]
    },
    {
      "cell_type": "code",
      "execution_count": 1,
      "metadata": {
        "id": "TZcYQepW78hV"
      },
      "outputs": [],
      "source": [
        "# import the torch library\n",
        "import torch"
      ]
    },
    {
      "cell_type": "code",
      "source": [
        "# make a tensor of rand size 3 rows and 4 columns and dimension 2\n",
        "new_tensor = torch.rand(3,4)\n",
        "new_tensor"
      ],
      "metadata": {
        "colab": {
          "base_uri": "https://localhost:8080/"
        },
        "id": "MkxNklg07-cZ",
        "outputId": "d871f1b9-3b6a-4a29-840f-bea3f33d1948"
      },
      "execution_count": 2,
      "outputs": [
        {
          "output_type": "execute_result",
          "data": {
            "text/plain": [
              "tensor([[0.0180, 0.0242, 0.4184, 0.4218],\n",
              "        [0.0874, 0.9640, 0.2846, 0.2083],\n",
              "        [0.3994, 0.3203, 0.0224, 0.0095]])"
            ]
          },
          "metadata": {},
          "execution_count": 2
        }
      ]
    },
    {
      "cell_type": "code",
      "source": [
        "# extract the 1st row of the tensor\n",
        "second_tensor = new_tensor[1,:]\n",
        "second_tensor"
      ],
      "metadata": {
        "colab": {
          "base_uri": "https://localhost:8080/"
        },
        "id": "Tg_WRuSq-NXa",
        "outputId": "1e302166-5d59-4f13-e914-9b8d0a3dcaed"
      },
      "execution_count": 17,
      "outputs": [
        {
          "output_type": "execute_result",
          "data": {
            "text/plain": [
              "tensor([0., 0., 0., 0.])"
            ]
          },
          "metadata": {},
          "execution_count": 17
        }
      ]
    },
    {
      "cell_type": "code",
      "source": [
        "# make a zeros tensor same dimension as of second tensor\n",
        "zeros = torch.zeros_like(second_tensor)"
      ],
      "metadata": {
        "id": "TxMWN45J9Qaa"
      },
      "execution_count": 18,
      "outputs": []
    },
    {
      "cell_type": "code",
      "source": [
        "# multiply the zeros and the second_tensor\n",
        "updated = zeros * second_tensor"
      ],
      "metadata": {
        "id": "-BCIQfnP91Q4"
      },
      "execution_count": 19,
      "outputs": []
    },
    {
      "cell_type": "code",
      "source": [
        "updated"
      ],
      "metadata": {
        "colab": {
          "base_uri": "https://localhost:8080/"
        },
        "id": "zjjeMhlj94cx",
        "outputId": "9370ad43-358a-476b-8c8b-05cbba1dc560"
      },
      "execution_count": 20,
      "outputs": [
        {
          "output_type": "execute_result",
          "data": {
            "text/plain": [
              "tensor([0., 0., 0., 0.])"
            ]
          },
          "metadata": {},
          "execution_count": 20
        }
      ]
    },
    {
      "cell_type": "code",
      "source": [
        "# update the new_tensor after the multiplication with the new calculated values\n",
        "new_tensor[1,:] = updated\n",
        "new_tensor"
      ],
      "metadata": {
        "colab": {
          "base_uri": "https://localhost:8080/"
        },
        "id": "liHNn6Y-96Ad",
        "outputId": "96aaa10b-2d84-479f-9414-c2014868a26c"
      },
      "execution_count": 21,
      "outputs": [
        {
          "output_type": "execute_result",
          "data": {
            "text/plain": [
              "tensor([[0.0180, 0.0242, 0.4184, 0.4218],\n",
              "        [0.0000, 0.0000, 0.0000, 0.0000],\n",
              "        [0.3994, 0.3203, 0.0224, 0.0095]])"
            ]
          },
          "metadata": {},
          "execution_count": 21
        }
      ]
    },
    {
      "cell_type": "code",
      "source": [
        "# the default type of values in tensor is float\n",
        "new_tensor.dtype"
      ],
      "metadata": {
        "colab": {
          "base_uri": "https://localhost:8080/"
        },
        "id": "Hm7fa5BH9-KC",
        "outputId": "6277233d-cb58-43a5-9a79-41b860fb4b7c"
      },
      "execution_count": 22,
      "outputs": [
        {
          "output_type": "execute_result",
          "data": {
            "text/plain": [
              "torch.float32"
            ]
          },
          "metadata": {},
          "execution_count": 22
        }
      ]
    },
    {
      "cell_type": "markdown",
      "source": [
        "### Creating a range of tensors and tensor-like"
      ],
      "metadata": {
        "id": "DyxLcXKyAng6"
      }
    },
    {
      "cell_type": "code",
      "source": [
        "range = torch.arange(0, 10)\n",
        "range"
      ],
      "metadata": {
        "colab": {
          "base_uri": "https://localhost:8080/"
        },
        "id": "CFy-C8gT_sxa",
        "outputId": "aea3ce33-5fdc-475a-e607-37c8bfa59cb7"
      },
      "execution_count": 26,
      "outputs": [
        {
          "output_type": "execute_result",
          "data": {
            "text/plain": [
              "tensor([0, 1, 2, 3, 4, 5, 6, 7, 8, 9])"
            ]
          },
          "metadata": {},
          "execution_count": 26
        }
      ]
    },
    {
      "cell_type": "code",
      "source": [
        "likeTensor = torch.ones_like(range)\n",
        "likeTensor"
      ],
      "metadata": {
        "colab": {
          "base_uri": "https://localhost:8080/"
        },
        "id": "Qj7Dyl5YA2YJ",
        "outputId": "9b42c7be-17fa-43bc-deaf-443a7d64b5c0"
      },
      "execution_count": 27,
      "outputs": [
        {
          "output_type": "execute_result",
          "data": {
            "text/plain": [
              "tensor([1, 1, 1, 1, 1, 1, 1, 1, 1, 1])"
            ]
          },
          "metadata": {},
          "execution_count": 27
        }
      ]
    },
    {
      "cell_type": "code",
      "source": [
        "range = torch.arange(start=1 , end=11 , step=2)\n",
        "range"
      ],
      "metadata": {
        "colab": {
          "base_uri": "https://localhost:8080/"
        },
        "id": "-L1uTXo_BAIe",
        "outputId": "6754bdda-6005-4622-ecb5-ec18006f7cd9"
      },
      "execution_count": 29,
      "outputs": [
        {
          "output_type": "execute_result",
          "data": {
            "text/plain": [
              "tensor([1, 3, 5, 7, 9])"
            ]
          },
          "metadata": {},
          "execution_count": 29
        }
      ]
    },
    {
      "cell_type": "markdown",
      "source": [
        "### Data types in tensors\n",
        "\n",
        "#### Tensors datatypes is one of the three big errors we run into\n",
        "1. Tensors not right datatype\n",
        "2. Tensors not right shape\n",
        "3. Tensors not on the right device"
      ],
      "metadata": {
        "id": "A9MxiqZAFvT9"
      }
    },
    {
      "cell_type": "code",
      "source": [
        "float32_tensor = torch.tensor([1.2, 2.4, 3.0],\n",
        "                              dtype = torch.float32, # the data type of tensor\n",
        "                              device= None, # We need to define device like cpu and gpu so that we don't get device we running on errors by default:cpu\n",
        "                              requires_grad= False)\n",
        "float32_tensor.dtype"
      ],
      "metadata": {
        "colab": {
          "base_uri": "https://localhost:8080/"
        },
        "id": "CLegIN1WB13p",
        "outputId": "d0b524ab-5316-4683-bd1e-c970c1382d35"
      },
      "execution_count": 33,
      "outputs": [
        {
          "output_type": "execute_result",
          "data": {
            "text/plain": [
              "torch.float32"
            ]
          },
          "metadata": {},
          "execution_count": 33
        }
      ]
    },
    {
      "cell_type": "code",
      "source": [
        "float16_tensor = float32_tensor.type(torch.float16)\n",
        "float16_tensor.dtype"
      ],
      "metadata": {
        "colab": {
          "base_uri": "https://localhost:8080/"
        },
        "id": "4P_hfP_cGIT6",
        "outputId": "4548f442-562e-445b-8116-a74d2b174707"
      },
      "execution_count": 34,
      "outputs": [
        {
          "output_type": "execute_result",
          "data": {
            "text/plain": [
              "torch.float16"
            ]
          },
          "metadata": {},
          "execution_count": 34
        }
      ]
    },
    {
      "cell_type": "code",
      "source": [],
      "metadata": {
        "id": "vTHlpuRHJdiL"
      },
      "execution_count": null,
      "outputs": []
    }
  ]
}